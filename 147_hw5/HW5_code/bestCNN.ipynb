{
 "cells": [
  {
   "cell_type": "markdown",
   "metadata": {},
   "source": [
    "# Convolutional neural networks\n",
    "\n",
    "In this notebook, we'll put together our convolutional layers to implement a 3-layer CNN.  Then, we'll ask you to implement a CNN that can achieve > 65% validation error on CIFAR-10.\n",
    "\n",
    "If you have not completed the Spatial BatchNorm Notebook, please see the following description from that notebook:\n",
    "\n",
    "Please copy and paste your prior implemented code from HW #4 to start this assignment.  If you did not correctly implement the layers in HW #4, you may collaborate with a classmate to use their layer implementations from HW #4.  You may also visit TA or Prof OH to correct your implementation.  \n",
    "\n",
    "You'll want to copy and paste from HW #4:\n",
    "    - layers.py for your FC network layers, as well as batchnorm and dropout.\n",
    "    - layer_utils.py for your combined FC network layers.\n",
    "    - optim.py for your optimizers.\n",
    "\n",
    "Be sure to place these in the `nndl/` directory so they're imported correctly.  Note, as announced in class, we will not be releasing our solutions."
   ]
  },
  {
   "cell_type": "code",
   "execution_count": 2,
   "metadata": {},
   "outputs": [],
   "source": [
    "# As usual, a bit of setup\n",
    "\n",
    "import numpy as np\n",
    "import matplotlib.pyplot as plt\n",
    "from nndl.cnn import *\n",
    "from utils.data_utils import get_CIFAR10_data\n",
    "from utils.gradient_check import eval_numerical_gradient_array, eval_numerical_gradient\n",
    "from nndl.layers import *\n",
    "from nndl.conv_layers import *\n",
    "from utils.fast_layers import *\n",
    "from utils.solver import Solver\n",
    "\n",
    "%matplotlib inline\n",
    "plt.rcParams['figure.figsize'] = (10.0, 8.0) # set default size of plots\n",
    "plt.rcParams['image.interpolation'] = 'nearest'\n",
    "plt.rcParams['image.cmap'] = 'gray'\n",
    "\n",
    "# for auto-reloading external modules\n",
    "# see http://stackoverflow.com/questions/1907993/autoreload-of-modules-in-ipython\n",
    "%load_ext autoreload\n",
    "%autoreload 2\n",
    "\n",
    "def rel_error(x, y):\n",
    "  \"\"\" returns relative error \"\"\"\n",
    "  return np.max(np.abs(x - y) / (np.maximum(1e-8, np.abs(x) + np.abs(y))))"
   ]
  },
  {
   "cell_type": "code",
   "execution_count": 3,
   "metadata": {},
   "outputs": [
    {
     "name": "stdout",
     "output_type": "stream",
     "text": [
      "X_train: (49000, 3, 32, 32) \n",
      "y_train: (49000,) \n",
      "X_val: (1000, 3, 32, 32) \n",
      "y_val: (1000,) \n",
      "X_test: (1000, 3, 32, 32) \n",
      "y_test: (1000,) \n"
     ]
    }
   ],
   "source": [
    "# Load the (preprocessed) CIFAR10 data.\n",
    "\n",
    "data = get_CIFAR10_data()\n",
    "for k in data.keys():\n",
    "  print('{}: {} '.format(k, data[k].shape))"
   ]
  },
  {
   "cell_type": "markdown",
   "metadata": {},
   "source": [
    "## Three layer CNN\n",
    "\n",
    "In this notebook, you will implement a three layer CNN.  The `ThreeLayerConvNet` class is in `nndl/cnn.py`.  You'll need to modify that code for this section, including the initialization, as well as the calculation of the loss and gradients.  You should be able to use the building blocks you have either earlier coded or that we have provided.  Be sure to use the fast layers.\n",
    "\n",
    "The architecture of this CNN will be:\n",
    "\n",
    "conv - relu - 2x2 max pool - affine - relu - affine - softmax\n",
    "\n",
    "We won't use batchnorm yet.  You've also done enough of these to know how to debug; use the cells below.\n",
    "\n",
    "Note: As we are implementing several layers CNN networks. The gradient error can be expected for the `eval_numerical_gradient()` function. If your `W1 max relative error` and `W2 max relative error` are around or below 0.01, they should be acceptable. Other errors should be less than 1e-5. "
   ]
  },
  {
   "cell_type": "code",
   "execution_count": 4,
   "metadata": {},
   "outputs": [
    {
     "name": "stdout",
     "output_type": "stream",
     "text": [
      "W1 max relative error: 0.00013717811956023954\n",
      "W2 max relative error: 0.0004634868126112562\n",
      "W3 max relative error: 3.88017805272466e-05\n",
      "b1 max relative error: 2.1764014481345942e-05\n",
      "b2 max relative error: 7.205694929161584e-08\n",
      "b3 max relative error: 8.766444943918748e-10\n"
     ]
    }
   ],
   "source": [
    "num_inputs = 2\n",
    "input_dim = (3, 16, 16)\n",
    "reg = 0.0\n",
    "num_classes = 10\n",
    "X = np.random.randn(num_inputs, *input_dim)\n",
    "y = np.random.randint(num_classes, size=num_inputs)\n",
    "\n",
    "model = ThreeLayerConvNet(num_filters=3, filter_size=3,\n",
    "                          input_dim=input_dim, hidden_dim=7,\n",
    "                          dtype=np.float64)\n",
    "loss, grads = model.loss(X, y)\n",
    "for param_name in sorted(grads):\n",
    "    f = lambda _: model.loss(X, y)[0]\n",
    "    param_grad_num = eval_numerical_gradient(f, model.params[param_name], verbose=False, h=1e-6)\n",
    "    e = rel_error(param_grad_num, grads[param_name])\n",
    "    print('{} max relative error: {}'.format(param_name, rel_error(param_grad_num, grads[param_name])))"
   ]
  },
  {
   "cell_type": "markdown",
   "metadata": {},
   "source": [
    "### Overfit small dataset\n",
    "\n",
    "To check your CNN implementation, let's overfit a small dataset."
   ]
  },
  {
   "cell_type": "code",
   "execution_count": 5,
   "metadata": {},
   "outputs": [
    {
     "name": "stdout",
     "output_type": "stream",
     "text": [
      "(Iteration 1 / 20) loss: 2.348549\n",
      "(Epoch 0 / 10) train acc: 0.130000; val_acc: 0.109000\n",
      "(Iteration 2 / 20) loss: 3.192955\n",
      "(Epoch 1 / 10) train acc: 0.210000; val_acc: 0.118000\n",
      "(Iteration 3 / 20) loss: 3.830671\n",
      "(Iteration 4 / 20) loss: 3.893182\n",
      "(Epoch 2 / 10) train acc: 0.110000; val_acc: 0.107000\n",
      "(Iteration 5 / 20) loss: 5.242046\n",
      "(Iteration 6 / 20) loss: 3.402059\n",
      "(Epoch 3 / 10) train acc: 0.180000; val_acc: 0.137000\n",
      "(Iteration 7 / 20) loss: 3.356559\n",
      "(Iteration 8 / 20) loss: 2.349357\n",
      "(Epoch 4 / 10) train acc: 0.220000; val_acc: 0.118000\n",
      "(Iteration 9 / 20) loss: 2.113121\n",
      "(Iteration 10 / 20) loss: 2.063497\n",
      "(Epoch 5 / 10) train acc: 0.340000; val_acc: 0.168000\n",
      "(Iteration 11 / 20) loss: 2.153304\n",
      "(Iteration 12 / 20) loss: 2.087311\n",
      "(Epoch 6 / 10) train acc: 0.420000; val_acc: 0.163000\n",
      "(Iteration 13 / 20) loss: 1.772500\n",
      "(Iteration 14 / 20) loss: 1.739976\n",
      "(Epoch 7 / 10) train acc: 0.460000; val_acc: 0.171000\n",
      "(Iteration 15 / 20) loss: 1.645320\n",
      "(Iteration 16 / 20) loss: 1.358373\n",
      "(Epoch 8 / 10) train acc: 0.500000; val_acc: 0.185000\n",
      "(Iteration 17 / 20) loss: 1.715330\n",
      "(Iteration 18 / 20) loss: 0.983532\n",
      "(Epoch 9 / 10) train acc: 0.560000; val_acc: 0.189000\n",
      "(Iteration 19 / 20) loss: 0.895671\n",
      "(Iteration 20 / 20) loss: 1.064744\n",
      "(Epoch 10 / 10) train acc: 0.610000; val_acc: 0.195000\n"
     ]
    }
   ],
   "source": [
    "num_train = 100\n",
    "small_data = {\n",
    "  'X_train': data['X_train'][:num_train],\n",
    "  'y_train': data['y_train'][:num_train],\n",
    "  'X_val': data['X_val'],\n",
    "  'y_val': data['y_val'],\n",
    "}\n",
    "\n",
    "model = ThreeLayerConvNet(weight_scale=1e-2)\n",
    "\n",
    "solver = Solver(model, small_data,\n",
    "                num_epochs=10, batch_size=50,\n",
    "                update_rule='adam',\n",
    "                optim_config={\n",
    "                  'learning_rate': 1e-3,\n",
    "                },\n",
    "                verbose=True, print_every=1)\n",
    "solver.train()"
   ]
  },
  {
   "cell_type": "code",
   "execution_count": 6,
   "metadata": {},
   "outputs": [
    {
     "data": {
      "image/png": "[encoded data removed]",
      "text/plain": [
       "<Figure size 720x576 with 2 Axes>"
      ]
     },
     "metadata": {
      "needs_background": "light"
     },
     "output_type": "display_data"
    }
   ],
   "source": [
    "plt.subplot(2, 1, 1)\n",
    "plt.plot(solver.loss_history, 'o')\n",
    "plt.xlabel('iteration')\n",
    "plt.ylabel('loss')\n",
    "\n",
    "plt.subplot(2, 1, 2)\n",
    "plt.plot(solver.train_acc_history, '-o')\n",
    "plt.plot(solver.val_acc_history, '-o')\n",
    "plt.legend(['train', 'val'], loc='upper left')\n",
    "plt.xlabel('epoch')\n",
    "plt.ylabel('accuracy')\n",
    "plt.show()"
   ]
  },
  {
   "cell_type": "markdown",
   "metadata": {},
   "source": [
    "## Train the network\n",
    "\n",
    "Now we train the 3 layer CNN on CIFAR-10 and assess its accuracy."
   ]
  },
  {
   "cell_type": "code",
   "execution_count": 7,
   "metadata": {
    "scrolled": false
   },
   "outputs": [
    {
     "name": "stdout",
     "output_type": "stream",
     "text": [
      "(Iteration 1 / 980) loss: 2.304537\n",
      "(Epoch 0 / 1) train acc: 0.095000; val_acc: 0.119000\n",
      "(Iteration 21 / 980) loss: 2.276528\n",
      "(Iteration 41 / 980) loss: 2.142111\n",
      "(Iteration 61 / 980) loss: 2.283500\n",
      "(Iteration 81 / 980) loss: 1.951992\n",
      "(Iteration 101 / 980) loss: 1.672516\n",
      "(Iteration 121 / 980) loss: 1.951228\n",
      "(Iteration 141 / 980) loss: 2.007265\n",
      "(Iteration 161 / 980) loss: 1.612091\n",
      "(Iteration 181 / 980) loss: 1.968459\n",
      "(Iteration 201 / 980) loss: 1.696876\n",
      "(Iteration 221 / 980) loss: 1.822898\n",
      "(Iteration 241 / 980) loss: 1.465408\n",
      "(Iteration 261 / 980) loss: 1.741214\n",
      "(Iteration 281 / 980) loss: 1.570055\n",
      "(Iteration 301 / 980) loss: 1.998041\n",
      "(Iteration 321 / 980) loss: 1.467284\n",
      "(Iteration 341 / 980) loss: 1.398170\n",
      "(Iteration 361 / 980) loss: 1.786516\n",
      "(Iteration 381 / 980) loss: 1.405472\n",
      "(Iteration 401 / 980) loss: 1.729057\n",
      "(Iteration 421 / 980) loss: 1.572287\n",
      "(Iteration 441 / 980) loss: 1.667767\n",
      "(Iteration 461 / 980) loss: 1.575169\n",
      "(Iteration 481 / 980) loss: 1.544825\n",
      "(Iteration 501 / 980) loss: 1.476642\n",
      "(Iteration 521 / 980) loss: 1.725957\n",
      "(Iteration 541 / 980) loss: 1.408035\n",
      "(Iteration 561 / 980) loss: 1.740912\n",
      "(Iteration 581 / 980) loss: 1.508692\n",
      "(Iteration 601 / 980) loss: 1.572061\n",
      "(Iteration 621 / 980) loss: 1.210978\n",
      "(Iteration 641 / 980) loss: 1.261266\n",
      "(Iteration 661 / 980) loss: 1.410536\n",
      "(Iteration 681 / 980) loss: 1.493152\n",
      "(Iteration 701 / 980) loss: 1.848139\n",
      "(Iteration 721 / 980) loss: 1.366808\n",
      "(Iteration 741 / 980) loss: 1.375927\n",
      "(Iteration 761 / 980) loss: 1.274215\n",
      "(Iteration 781 / 980) loss: 1.417234\n",
      "(Iteration 801 / 980) loss: 1.227579\n",
      "(Iteration 821 / 980) loss: 1.464433\n",
      "(Iteration 841 / 980) loss: 1.272653\n",
      "(Iteration 861 / 980) loss: 1.436028\n",
      "(Iteration 881 / 980) loss: 1.338456\n",
      "(Iteration 901 / 980) loss: 1.491120\n",
      "(Iteration 921 / 980) loss: 1.541794\n",
      "(Iteration 941 / 980) loss: 1.467144\n",
      "(Iteration 961 / 980) loss: 1.396216\n",
      "(Epoch 1 / 1) train acc: 0.500000; val_acc: 0.510000\n"
     ]
    }
   ],
   "source": [
    "model = ThreeLayerConvNet(weight_scale=0.001, hidden_dim=500, reg=0.001)\n",
    "\n",
    "solver = Solver(model, data,\n",
    "                num_epochs=1, batch_size=50,\n",
    "                update_rule='adam',\n",
    "                optim_config={\n",
    "                  'learning_rate': 1e-3,\n",
    "                },\n",
    "                verbose=True, print_every=20)\n",
    "solver.train()"
   ]
  },
  {
   "cell_type": "markdown",
   "metadata": {},
   "source": [
    "# Get > 65% validation accuracy on CIFAR-10.\n",
    "\n",
    "In the last part of the assignment, we'll now ask you to train a CNN to get better than 65% validation accuracy on CIFAR-10.\n",
    "\n",
    "### Things you should try:\n",
    "- Filter size: Above we used 7x7; but VGGNet and onwards showed stacks of 3x3 filters are good.  \n",
    "- Number of filters: Above we used 32 filters. Do more or fewer do better?\n",
    "- Batch normalization: Try adding spatial batch normalization after convolution layers and vanilla batch normalization aafter affine layers. Do your networks train faster?\n",
    "- Network architecture: Can a deeper CNN do better?  Consider these architectures:\n",
    "    - [conv-relu-pool]xN - conv - relu - [affine]xM - [softmax or SVM]\n",
    "    - [conv-relu-pool]XN - [affine]XM - [softmax or SVM]\n",
    "    - [conv-relu-conv-relu-pool]xN - [affine]xM - [softmax or SVM]\n",
    "\n",
    "### Tips for training\n",
    "For each network architecture that you try, you should tune the learning rate and regularization strength. When doing this there are a couple important things to keep in mind:\n",
    "\n",
    "- If the parameters are working well, you should see improvement within a few hundred iterations\n",
    "- Remember the coarse-to-fine approach for hyperparameter tuning: start by testing a large range of hyperparameters for just a few training iterations to find the combinations of parameters that are working at all.\n",
    "- Once you have found some sets of parameters that seem to work, search more finely around these parameters. You may need to train for more epochs."
   ]
  },
  {
   "cell_type": "code",
   "execution_count": 113,
   "metadata": {
    "scrolled": false
   },
   "outputs": [
    {
     "name": "stdout",
     "output_type": "stream",
     "text": [
      "(Iteration 1 / 4900) loss: 2.303826\n",
      "(Epoch 0 / 5) train acc: 0.119000; val_acc: 0.136000\n",
      "(Iteration 101 / 4900) loss: 1.865671\n",
      "(Iteration 201 / 4900) loss: 1.576891\n",
      "(Iteration 301 / 4900) loss: 1.769245\n",
      "(Iteration 401 / 4900) loss: 1.645652\n",
      "(Iteration 501 / 4900) loss: 1.399039\n",
      "(Iteration 601 / 4900) loss: 1.687713\n",
      "(Iteration 701 / 4900) loss: 1.349862\n",
      "(Iteration 801 / 4900) loss: 1.243319\n",
      "(Iteration 901 / 4900) loss: 1.223658\n",
      "(Epoch 1 / 5) train acc: 0.573000; val_acc: 0.575000\n",
      "(Iteration 1001 / 4900) loss: 1.181311\n",
      "(Iteration 1101 / 4900) loss: 1.197070\n",
      "(Iteration 1201 / 4900) loss: 1.172661\n",
      "(Iteration 1301 / 4900) loss: 1.104846\n",
      "(Iteration 1401 / 4900) loss: 1.112608\n",
      "(Iteration 1501 / 4900) loss: 1.308356\n",
      "(Iteration 1601 / 4900) loss: 1.106202\n",
      "(Iteration 1701 / 4900) loss: 0.999598\n",
      "(Iteration 1801 / 4900) loss: 1.024301\n",
      "(Iteration 1901 / 4900) loss: 1.082049\n",
      "(Epoch 2 / 5) train acc: 0.611000; val_acc: 0.595000\n",
      "(Iteration 2001 / 4900) loss: 1.251875\n",
      "(Iteration 2101 / 4900) loss: 0.891963\n",
      "(Iteration 2201 / 4900) loss: 1.020011\n",
      "(Iteration 2301 / 4900) loss: 1.096611\n",
      "(Iteration 2401 / 4900) loss: 0.949318\n",
      "(Iteration 2501 / 4900) loss: 1.014718\n",
      "(Iteration 2601 / 4900) loss: 0.920442\n",
      "(Iteration 2701 / 4900) loss: 0.866242\n",
      "(Iteration 2801 / 4900) loss: 0.931062\n",
      "(Iteration 2901 / 4900) loss: 0.868347\n",
      "(Epoch 3 / 5) train acc: 0.734000; val_acc: 0.684000\n",
      "(Iteration 3001 / 4900) loss: 0.877152\n",
      "(Iteration 3101 / 4900) loss: 0.921016\n",
      "(Iteration 3201 / 4900) loss: 0.765574\n",
      "(Iteration 3301 / 4900) loss: 0.870688\n",
      "(Iteration 3401 / 4900) loss: 0.776872\n",
      "(Iteration 3501 / 4900) loss: 0.795678\n",
      "(Iteration 3601 / 4900) loss: 0.727459\n",
      "(Iteration 3701 / 4900) loss: 0.783006\n",
      "(Iteration 3801 / 4900) loss: 0.950273\n",
      "(Iteration 3901 / 4900) loss: 0.652905\n",
      "(Epoch 4 / 5) train acc: 0.774000; val_acc: 0.692000\n",
      "(Iteration 4001 / 4900) loss: 0.967348\n",
      "(Iteration 4101 / 4900) loss: 0.760686\n",
      "(Iteration 4201 / 4900) loss: 0.693271\n",
      "(Iteration 4301 / 4900) loss: 0.789836\n",
      "(Iteration 4401 / 4900) loss: 0.919256\n",
      "(Iteration 4501 / 4900) loss: 0.689625\n",
      "(Iteration 4601 / 4900) loss: 0.935902\n",
      "(Iteration 4701 / 4900) loss: 0.803994\n",
      "(Iteration 4801 / 4900) loss: 0.712820\n",
      "(Epoch 5 / 5) train acc: 0.781000; val_acc: 0.680000\n"
     ]
    }
   ],
   "source": [
    "# ================================================================ #\n",
    "# YOUR CODE HERE:\n",
    "#   Implement a CNN to achieve greater than 65% validation accuracy\n",
    "#   on CIFAR-10.\n",
    "# ================================================================ #\n",
    "\n",
    "model = BestCNN(weight_scale=0.001, hidden_dim=500, reg=0.005, filter_size=3, num_filters=32, use_batchnorm=True)\n",
    "\n",
    "solver = Solver(model, data,\n",
    "                num_epochs=5, batch_size=50,\n",
    "                update_rule='adam',\n",
    "                optim_config={\n",
    "                  'learning_rate': 1e-3,\n",
    "                },\n",
    "                verbose=True, print_every=100)\n",
    "solver.train()\n",
    "\n",
    "# ================================================================ #\n",
    "# END YOUR CODE HERE\n",
    "# ================================================================ #\n"
   ]
  },
  {
   "cell_type": "code",
   "execution_count": null,
   "metadata": {},
   "outputs": [],
   "source": []
  }
 ],
 "metadata": {
  "kernelspec": {
   "display_name": "Python 3.9.12 ('base')",
   "language": "python",
   "name": "python3"
  },
  "language_info": {
   "codemirror_mode": {
    "name": "ipython",
    "version": 3
   },
   "file_extension": ".py",
   "mimetype": "text/x-python",
   "name": "python",
   "nbconvert_exporter": "python",
   "pygments_lexer": "ipython3",
   "version": "3.9.12"
  },
  "pycharm": {
   "stem_cell": {
    "cell_type": "raw",
    "metadata": {
     "collapsed": false
    },
    "source": []
   }
  },
  "vscode": {
   "interpreter": {
    "hash": "547e4194a691f616bde1b3a4ad8b84843621c8bd0a314f34c8fca0869da20f13"
   }
  }
 },
 "nbformat": 4,
 "nbformat_minor": 2
}
