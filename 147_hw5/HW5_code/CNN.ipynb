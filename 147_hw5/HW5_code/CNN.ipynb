{
 "cells": [
  {
   "cell_type": "markdown",
   "metadata": {},
   "source": [
    "# Convolutional neural networks\n",
    "\n",
    "In this notebook, we'll put together our convolutional layers to implement a 3-layer CNN.  Then, we'll ask you to implement a CNN that can achieve > 65% validation error on CIFAR-10.\n",
    "\n",
    "If you have not completed the Spatial BatchNorm Notebook, please see the following description from that notebook:\n",
    "\n",
    "Please copy and paste your prior implemented code from HW #4 to start this assignment.  If you did not correctly implement the layers in HW #4, you may collaborate with a classmate to use their layer implementations from HW #4.  You may also visit TA or Prof OH to correct your implementation.  \n",
    "\n",
    "You'll want to copy and paste from HW #4:\n",
    "    - layers.py for your FC network layers, as well as batchnorm and dropout.\n",
    "    - layer_utils.py for your combined FC network layers.\n",
    "    - optim.py for your optimizers.\n",
    "\n",
    "Be sure to place these in the `nndl/` directory so they're imported correctly.  Note, as announced in class, we will not be releasing our solutions."
   ]
  },
  {
   "cell_type": "code",
   "execution_count": 1,
   "metadata": {},
   "outputs": [],
   "source": [
    "# As usual, a bit of setup\n",
    "\n",
    "import numpy as np\n",
    "import matplotlib.pyplot as plt\n",
    "from nndl.cnn import *\n",
    "from utils.data_utils import get_CIFAR10_data\n",
    "from utils.gradient_check import eval_numerical_gradient_array, eval_numerical_gradient\n",
    "from nndl.layers import *\n",
    "from nndl.conv_layers import *\n",
    "from utils.fast_layers import *\n",
    "from utils.solver import Solver\n",
    "\n",
    "%matplotlib inline\n",
    "plt.rcParams['figure.figsize'] = (10.0, 8.0) # set default size of plots\n",
    "plt.rcParams['image.interpolation'] = 'nearest'\n",
    "plt.rcParams['image.cmap'] = 'gray'\n",
    "\n",
    "# for auto-reloading external modules\n",
    "# see http://stackoverflow.com/questions/1907993/autoreload-of-modules-in-ipython\n",
    "%load_ext autoreload\n",
    "%autoreload 2\n",
    "\n",
    "def rel_error(x, y):\n",
    "  \"\"\" returns relative error \"\"\"\n",
    "  return np.max(np.abs(x - y) / (np.maximum(1e-8, np.abs(x) + np.abs(y))))"
   ]
  },
  {
   "cell_type": "code",
   "execution_count": 2,
   "metadata": {},
   "outputs": [
    {
     "name": "stdout",
     "output_type": "stream",
     "text": [
      "X_train: (49000, 3, 32, 32) \n",
      "y_train: (49000,) \n",
      "X_val: (1000, 3, 32, 32) \n",
      "y_val: (1000,) \n",
      "X_test: (1000, 3, 32, 32) \n",
      "y_test: (1000,) \n"
     ]
    }
   ],
   "source": [
    "# Load the (preprocessed) CIFAR10 data.\n",
    "\n",
    "data = get_CIFAR10_data()\n",
    "for k in data.keys():\n",
    "  print('{}: {} '.format(k, data[k].shape))"
   ]
  },
  {
   "cell_type": "markdown",
   "metadata": {},
   "source": [
    "## Three layer CNN\n",
    "\n",
    "In this notebook, you will implement a three layer CNN.  The `ThreeLayerConvNet` class is in `nndl/cnn.py`.  You'll need to modify that code for this section, including the initialization, as well as the calculation of the loss and gradients.  You should be able to use the building blocks you have either earlier coded or that we have provided.  Be sure to use the fast layers.\n",
    "\n",
    "The architecture of this CNN will be:\n",
    "\n",
    "conv - relu - 2x2 max pool - affine - relu - affine - softmax\n",
    "\n",
    "We won't use batchnorm yet.  You've also done enough of these to know how to debug; use the cells below.\n",
    "\n",
    "Note: As we are implementing several layers CNN networks. The gradient error can be expected for the `eval_numerical_gradient()` function. If your `W1 max relative error` and `W2 max relative error` are around or below 0.01, they should be acceptable. Other errors should be less than 1e-5. "
   ]
  },
  {
   "cell_type": "code",
   "execution_count": 3,
   "metadata": {},
   "outputs": [
    {
     "name": "stdout",
     "output_type": "stream",
     "text": [
      "W1 max relative error: 0.0006451395093515345\n",
      "W2 max relative error: 0.01350449477089226\n",
      "W3 max relative error: 0.00016904015721507635\n",
      "b1 max relative error: 2.314872577167811e-05\n",
      "b2 max relative error: 7.562949730503716e-07\n",
      "b3 max relative error: 1.2112314512749231e-09\n"
     ]
    }
   ],
   "source": [
    "num_inputs = 2\n",
    "input_dim = (3, 16, 16)\n",
    "reg = 0.0\n",
    "num_classes = 10\n",
    "X = np.random.randn(num_inputs, *input_dim)\n",
    "y = np.random.randint(num_classes, size=num_inputs)\n",
    "\n",
    "model = ThreeLayerConvNet(num_filters=3, filter_size=3,\n",
    "                          input_dim=input_dim, hidden_dim=7,\n",
    "                          dtype=np.float64)\n",
    "loss, grads = model.loss(X, y)\n",
    "for param_name in sorted(grads):\n",
    "    f = lambda _: model.loss(X, y)[0]\n",
    "    param_grad_num = eval_numerical_gradient(f, model.params[param_name], verbose=False, h=1e-6)\n",
    "    e = rel_error(param_grad_num, grads[param_name])\n",
    "    print('{} max relative error: {}'.format(param_name, rel_error(param_grad_num, grads[param_name])))"
   ]
  },
  {
   "cell_type": "markdown",
   "metadata": {},
   "source": [
    "### Overfit small dataset\n",
    "\n",
    "To check your CNN implementation, let's overfit a small dataset."
   ]
  },
  {
   "cell_type": "code",
   "execution_count": 4,
   "metadata": {},
   "outputs": [
    {
     "name": "stdout",
     "output_type": "stream",
     "text": [
      "(Iteration 1 / 20) loss: 2.275642\n",
      "(Epoch 0 / 10) train acc: 0.240000; val_acc: 0.125000\n",
      "(Iteration 2 / 20) loss: 3.769227\n",
      "(Epoch 1 / 10) train acc: 0.270000; val_acc: 0.115000\n",
      "(Iteration 3 / 20) loss: 3.055778\n",
      "(Iteration 4 / 20) loss: 3.628081\n",
      "(Epoch 2 / 10) train acc: 0.220000; val_acc: 0.103000\n",
      "(Iteration 5 / 20) loss: 3.023519\n",
      "(Iteration 6 / 20) loss: 2.379925\n",
      "(Epoch 3 / 10) train acc: 0.240000; val_acc: 0.135000\n",
      "(Iteration 7 / 20) loss: 2.045051\n",
      "(Iteration 8 / 20) loss: 1.750647\n",
      "(Epoch 4 / 10) train acc: 0.490000; val_acc: 0.177000\n",
      "(Iteration 9 / 20) loss: 1.605846\n",
      "(Iteration 10 / 20) loss: 1.552157\n",
      "(Epoch 5 / 10) train acc: 0.470000; val_acc: 0.190000\n",
      "(Iteration 11 / 20) loss: 1.472089\n",
      "(Iteration 12 / 20) loss: 1.231236\n",
      "(Epoch 6 / 10) train acc: 0.620000; val_acc: 0.186000\n",
      "(Iteration 13 / 20) loss: 1.248584\n",
      "(Iteration 14 / 20) loss: 1.253114\n",
      "(Epoch 7 / 10) train acc: 0.650000; val_acc: 0.185000\n",
      "(Iteration 15 / 20) loss: 0.911439\n",
      "(Iteration 16 / 20) loss: 1.231241\n",
      "(Epoch 8 / 10) train acc: 0.650000; val_acc: 0.172000\n",
      "(Iteration 17 / 20) loss: 0.781937\n",
      "(Iteration 18 / 20) loss: 0.674034\n",
      "(Epoch 9 / 10) train acc: 0.800000; val_acc: 0.190000\n",
      "(Iteration 19 / 20) loss: 0.761622\n",
      "(Iteration 20 / 20) loss: 0.328816\n",
      "(Epoch 10 / 10) train acc: 0.740000; val_acc: 0.208000\n"
     ]
    }
   ],
   "source": [
    "num_train = 100\n",
    "small_data = {\n",
    "  'X_train': data['X_train'][:num_train],\n",
    "  'y_train': data['y_train'][:num_train],\n",
    "  'X_val': data['X_val'],\n",
    "  'y_val': data['y_val'],\n",
    "}\n",
    "\n",
    "model = ThreeLayerConvNet(weight_scale=1e-2)\n",
    "\n",
    "solver = Solver(model, small_data,\n",
    "                num_epochs=10, batch_size=50,\n",
    "                update_rule='adam',\n",
    "                optim_config={\n",
    "                  'learning_rate': 1e-3,\n",
    "                },\n",
    "                verbose=True, print_every=1)\n",
    "solver.train()"
   ]
  },
  {
   "cell_type": "code",
   "execution_count": 5,
   "metadata": {},
   "outputs": [
    {
     "data": {
      "image/png": "[encoded data removed]",
      "text/plain": [
       "<Figure size 720x576 with 2 Axes>"
      ]
     },
     "metadata": {
      "needs_background": "light"
     },
     "output_type": "display_data"
    }
   ],
   "source": [
    "plt.subplot(2, 1, 1)\n",
    "plt.plot(solver.loss_history, 'o')\n",
    "plt.xlabel('iteration')\n",
    "plt.ylabel('loss')\n",
    "\n",
    "plt.subplot(2, 1, 2)\n",
    "plt.plot(solver.train_acc_history, '-o')\n",
    "plt.plot(solver.val_acc_history, '-o')\n",
    "plt.legend(['train', 'val'], loc='upper left')\n",
    "plt.xlabel('epoch')\n",
    "plt.ylabel('accuracy')\n",
    "plt.show()"
   ]
  },
  {
   "cell_type": "markdown",
   "metadata": {},
   "source": [
    "## Train the network\n",
    "\n",
    "Now we train the 3 layer CNN on CIFAR-10 and assess its accuracy."
   ]
  },
  {
   "cell_type": "code",
   "execution_count": 7,
   "metadata": {
    "scrolled": false
   },
   "outputs": [
    {
     "name": "stdout",
     "output_type": "stream",
     "text": [
      "(Iteration 1 / 980) loss: 2.304537\n",
      "(Epoch 0 / 1) train acc: 0.095000; val_acc: 0.119000\n",
      "(Iteration 21 / 980) loss: 2.276528\n",
      "(Iteration 41 / 980) loss: 2.142111\n",
      "(Iteration 61 / 980) loss: 2.283500\n",
      "(Iteration 81 / 980) loss: 1.951992\n",
      "(Iteration 101 / 980) loss: 1.672516\n",
      "(Iteration 121 / 980) loss: 1.951228\n",
      "(Iteration 141 / 980) loss: 2.007265\n",
      "(Iteration 161 / 980) loss: 1.612091\n",
      "(Iteration 181 / 980) loss: 1.968459\n",
      "(Iteration 201 / 980) loss: 1.696876\n",
      "(Iteration 221 / 980) loss: 1.822898\n",
      "(Iteration 241 / 980) loss: 1.465408\n",
      "(Iteration 261 / 980) loss: 1.741214\n",
      "(Iteration 281 / 980) loss: 1.570055\n",
      "(Iteration 301 / 980) loss: 1.998041\n",
      "(Iteration 321 / 980) loss: 1.467284\n",
      "(Iteration 341 / 980) loss: 1.398170\n",
      "(Iteration 361 / 980) loss: 1.786516\n",
      "(Iteration 381 / 980) loss: 1.405472\n",
      "(Iteration 401 / 980) loss: 1.729057\n",
      "(Iteration 421 / 980) loss: 1.572287\n",
      "(Iteration 441 / 980) loss: 1.667767\n",
      "(Iteration 461 / 980) loss: 1.575169\n",
      "(Iteration 481 / 980) loss: 1.544825\n",
      "(Iteration 501 / 980) loss: 1.476642\n",
      "(Iteration 521 / 980) loss: 1.725957\n",
      "(Iteration 541 / 980) loss: 1.408035\n",
      "(Iteration 561 / 980) loss: 1.740912\n",
      "(Iteration 581 / 980) loss: 1.508692\n",
      "(Iteration 601 / 980) loss: 1.572061\n",
      "(Iteration 621 / 980) loss: 1.210978\n",
      "(Iteration 641 / 980) loss: 1.261266\n",
      "(Iteration 661 / 980) loss: 1.410536\n",
      "(Iteration 681 / 980) loss: 1.493152\n",
      "(Iteration 701 / 980) loss: 1.848139\n",
      "(Iteration 721 / 980) loss: 1.366808\n",
      "(Iteration 741 / 980) loss: 1.375927\n",
      "(Iteration 761 / 980) loss: 1.274215\n",
      "(Iteration 781 / 980) loss: 1.417234\n",
      "(Iteration 801 / 980) loss: 1.227579\n",
      "(Iteration 821 / 980) loss: 1.464433\n",
      "(Iteration 841 / 980) loss: 1.272653\n",
      "(Iteration 861 / 980) loss: 1.436028\n",
      "(Iteration 881 / 980) loss: 1.338456\n",
      "(Iteration 901 / 980) loss: 1.491120\n",
      "(Iteration 921 / 980) loss: 1.541794\n",
      "(Iteration 941 / 980) loss: 1.467144\n",
      "(Iteration 961 / 980) loss: 1.396216\n",
      "(Epoch 1 / 1) train acc: 0.500000; val_acc: 0.510000\n"
     ]
    }
   ],
   "source": [
    "model = ThreeLayerConvNet(weight_scale=0.001, hidden_dim=500, reg=0.001)\n",
    "\n",
    "solver = Solver(model, data,\n",
    "                num_epochs=1, batch_size=50,\n",
    "                update_rule='adam',\n",
    "                optim_config={\n",
    "                  'learning_rate': 1e-3,\n",
    "                },\n",
    "                verbose=True, print_every=20)\n",
    "solver.train()"
   ]
  },
  {
   "cell_type": "markdown",
   "metadata": {},
   "source": [
    "# Get > 65% validation accuracy on CIFAR-10.\n",
    "\n",
    "In the last part of the assignment, we'll now ask you to train a CNN to get better than 65% validation accuracy on CIFAR-10.\n",
    "\n",
    "### Things you should try:\n",
    "- Filter size: Above we used 7x7; but VGGNet and onwards showed stacks of 3x3 filters are good.  \n",
    "- Number of filters: Above we used 32 filters. Do more or fewer do better?\n",
    "- Batch normalization: Try adding spatial batch normalization after convolution layers and vanilla batch normalization aafter affine layers. Do your networks train faster?\n",
    "- Network architecture: Can a deeper CNN do better?  Consider these architectures:\n",
    "    - [conv-relu-pool]xN - conv - relu - [affine]xM - [softmax or SVM]\n",
    "    - [conv-relu-pool]XN - [affine]XM - [softmax or SVM]\n",
    "    - [conv-relu-conv-relu-pool]xN - [affine]xM - [softmax or SVM]\n",
    "\n",
    "### Tips for training\n",
    "For each network architecture that you try, you should tune the learning rate and regularization strength. When doing this there are a couple important things to keep in mind:\n",
    "\n",
    "- If the parameters are working well, you should see improvement within a few hundred iterations\n",
    "- Remember the coarse-to-fine approach for hyperparameter tuning: start by testing a large range of hyperparameters for just a few training iterations to find the combinations of parameters that are working at all.\n",
    "- Once you have found some sets of parameters that seem to work, search more finely around these parameters. You may need to train for more epochs."
   ]
  },
  {
   "cell_type": "code",
   "execution_count": 112,
   "metadata": {
    "scrolled": false
   },
   "outputs": [
    {
     "name": "stdout",
     "output_type": "stream",
     "text": [
      "(Iteration 1 / 9800) loss: 2.307738\n",
      "(Epoch 0 / 10) train acc: 0.100000; val_acc: 0.105000\n"
     ]
    },
    {
     "ename": "KeyboardInterrupt",
     "evalue": "",
     "output_type": "error",
     "traceback": [
      "\u001b[0;31m---------------------------------------------------------------------------\u001b[0m",
      "\u001b[0;31mKeyboardInterrupt\u001b[0m                         Traceback (most recent call last)",
      "\u001b[1;32m/Users/mcapetz/Desktop/HW5_code/CNN.ipynb Cell 12\u001b[0m in \u001b[0;36m<module>\u001b[0;34m\u001b[0m\n\u001b[1;32m      <a href='vscode-notebook-cell:/Users/mcapetz/Desktop/HW5_code/CNN.ipynb#ch0000011?line=6'>7</a>\u001b[0m model \u001b[39m=\u001b[39m BestCNN(weight_scale\u001b[39m=\u001b[39m\u001b[39m0.001\u001b[39m, hidden_dim\u001b[39m=\u001b[39m\u001b[39m500\u001b[39m, reg\u001b[39m=\u001b[39m\u001b[39m0.005\u001b[39m, filter_size\u001b[39m=\u001b[39m\u001b[39m3\u001b[39m, num_filters\u001b[39m=\u001b[39m\u001b[39m32\u001b[39m, use_batchnorm\u001b[39m=\u001b[39m\u001b[39mTrue\u001b[39;00m)\n\u001b[1;32m      <a href='vscode-notebook-cell:/Users/mcapetz/Desktop/HW5_code/CNN.ipynb#ch0000011?line=8'>9</a>\u001b[0m solver \u001b[39m=\u001b[39m Solver(model, data,\n\u001b[1;32m     <a href='vscode-notebook-cell:/Users/mcapetz/Desktop/HW5_code/CNN.ipynb#ch0000011?line=9'>10</a>\u001b[0m                 num_epochs\u001b[39m=\u001b[39m\u001b[39m10\u001b[39m, batch_size\u001b[39m=\u001b[39m\u001b[39m50\u001b[39m,\n\u001b[1;32m     <a href='vscode-notebook-cell:/Users/mcapetz/Desktop/HW5_code/CNN.ipynb#ch0000011?line=10'>11</a>\u001b[0m                 update_rule\u001b[39m=\u001b[39m\u001b[39m'\u001b[39m\u001b[39madam\u001b[39m\u001b[39m'\u001b[39m,\n\u001b[0;32m   (...)\u001b[0m\n\u001b[1;32m     <a href='vscode-notebook-cell:/Users/mcapetz/Desktop/HW5_code/CNN.ipynb#ch0000011?line=13'>14</a>\u001b[0m                 },\n\u001b[1;32m     <a href='vscode-notebook-cell:/Users/mcapetz/Desktop/HW5_code/CNN.ipynb#ch0000011?line=14'>15</a>\u001b[0m                 verbose\u001b[39m=\u001b[39m\u001b[39mTrue\u001b[39;00m, print_every\u001b[39m=\u001b[39m\u001b[39m100\u001b[39m)\n\u001b[0;32m---> <a href='vscode-notebook-cell:/Users/mcapetz/Desktop/HW5_code/CNN.ipynb#ch0000011?line=15'>16</a>\u001b[0m solver\u001b[39m.\u001b[39;49mtrain()\n",
      "File \u001b[0;32m~/Desktop/HW5_code/utils/solver.py:264\u001b[0m, in \u001b[0;36mSolver.train\u001b[0;34m(self)\u001b[0m\n\u001b[1;32m    261\u001b[0m num_iterations \u001b[39m=\u001b[39m \u001b[39mself\u001b[39m\u001b[39m.\u001b[39mnum_epochs \u001b[39m*\u001b[39m iterations_per_epoch\n\u001b[1;32m    263\u001b[0m \u001b[39mfor\u001b[39;00m t \u001b[39min\u001b[39;00m \u001b[39mrange\u001b[39m(num_iterations):\n\u001b[0;32m--> 264\u001b[0m     \u001b[39mself\u001b[39;49m\u001b[39m.\u001b[39;49m_step()\n\u001b[1;32m    266\u001b[0m     \u001b[39m# Maybe print training loss\u001b[39;00m\n\u001b[1;32m    267\u001b[0m     \u001b[39mif\u001b[39;00m \u001b[39mself\u001b[39m\u001b[39m.\u001b[39mverbose \u001b[39mand\u001b[39;00m t \u001b[39m%\u001b[39m \u001b[39mself\u001b[39m\u001b[39m.\u001b[39mprint_every \u001b[39m==\u001b[39m \u001b[39m0\u001b[39m:\n",
      "File \u001b[0;32m~/Desktop/HW5_code/utils/solver.py:180\u001b[0m, in \u001b[0;36mSolver._step\u001b[0;34m(self)\u001b[0m\n\u001b[1;32m    177\u001b[0m y_batch \u001b[39m=\u001b[39m \u001b[39mself\u001b[39m\u001b[39m.\u001b[39my_train[batch_mask]\n\u001b[1;32m    179\u001b[0m \u001b[39m# Compute loss and gradient\u001b[39;00m\n\u001b[0;32m--> 180\u001b[0m loss, grads \u001b[39m=\u001b[39m \u001b[39mself\u001b[39;49m\u001b[39m.\u001b[39;49mmodel\u001b[39m.\u001b[39;49mloss(X_batch, y_batch)\n\u001b[1;32m    181\u001b[0m \u001b[39mself\u001b[39m\u001b[39m.\u001b[39mloss_history\u001b[39m.\u001b[39mappend(loss)\n\u001b[1;32m    183\u001b[0m \u001b[39m# Perform a parameter update\u001b[39;00m\n",
      "File \u001b[0;32m~/Desktop/HW5_code/nndl/cnn.py:549\u001b[0m, in \u001b[0;36mBestCNN.loss\u001b[0;34m(self, X, y)\u001b[0m\n\u001b[1;32m    547\u001b[0m h3, cache3 \u001b[39m=\u001b[39m max_pool_forward_fast(x\u001b[39m=\u001b[39mh2, pool_param\u001b[39m=\u001b[39mpool_param) \u001b[39m# pool\u001b[39;00m\n\u001b[1;32m    548\u001b[0m h4, cache4 \u001b[39m=\u001b[39m conv_bn_relu_forward(x\u001b[39m=\u001b[39mh3, w\u001b[39m=\u001b[39mW3, b\u001b[39m=\u001b[39mb3, conv_param\u001b[39m=\u001b[39mconv_param, gamma\u001b[39m=\u001b[39m\u001b[39mself\u001b[39m\u001b[39m.\u001b[39mparams[\u001b[39m'\u001b[39m\u001b[39mgamma3\u001b[39m\u001b[39m'\u001b[39m], beta\u001b[39m=\u001b[39m\u001b[39mself\u001b[39m\u001b[39m.\u001b[39mparams[\u001b[39m'\u001b[39m\u001b[39mbeta3\u001b[39m\u001b[39m'\u001b[39m], bn_param\u001b[39m=\u001b[39m\u001b[39mself\u001b[39m\u001b[39m.\u001b[39mbn_params[\u001b[39m2\u001b[39m]) \u001b[39m# conv relu\u001b[39;00m\n\u001b[0;32m--> 549\u001b[0m h5, cache5 \u001b[39m=\u001b[39m conv_bn_relu_forward(x\u001b[39m=\u001b[39;49mh4, w\u001b[39m=\u001b[39;49mW4, b\u001b[39m=\u001b[39;49mb4, conv_param\u001b[39m=\u001b[39;49mconv_param, gamma\u001b[39m=\u001b[39;49m\u001b[39mself\u001b[39;49m\u001b[39m.\u001b[39;49mparams[\u001b[39m'\u001b[39;49m\u001b[39mgamma4\u001b[39;49m\u001b[39m'\u001b[39;49m], beta\u001b[39m=\u001b[39;49m\u001b[39mself\u001b[39;49m\u001b[39m.\u001b[39;49mparams[\u001b[39m'\u001b[39;49m\u001b[39mbeta4\u001b[39;49m\u001b[39m'\u001b[39;49m], bn_param\u001b[39m=\u001b[39;49m\u001b[39mself\u001b[39;49m\u001b[39m.\u001b[39;49mbn_params[\u001b[39m3\u001b[39;49m]) \u001b[39m# conv relu\u001b[39;00m\n\u001b[1;32m    550\u001b[0m h6, cache6 \u001b[39m=\u001b[39m max_pool_forward_fast(x\u001b[39m=\u001b[39mh5, pool_param\u001b[39m=\u001b[39mpool_param) \u001b[39m# pool\u001b[39;00m\n\u001b[1;32m    551\u001b[0m \u001b[39m# FC\u001b[39;00m\n\u001b[1;32m    552\u001b[0m \u001b[39m# print(\"done w conv\")\u001b[39;00m\n",
      "File \u001b[0;32m~/Desktop/HW5_code/nndl/conv_layer_utils.py:35\u001b[0m, in \u001b[0;36mconv_bn_relu_forward\u001b[0;34m(x, w, b, conv_param, gamma, beta, bn_param)\u001b[0m\n\u001b[1;32m     23\u001b[0m \u001b[39mdef\u001b[39;00m \u001b[39mconv_bn_relu_forward\u001b[39m(x, w, b, conv_param, gamma, beta, bn_param):\n\u001b[1;32m     24\u001b[0m   \u001b[39m\"\"\"\u001b[39;00m\n\u001b[1;32m     25\u001b[0m \u001b[39m  A convenience layer that performs a convolution followed by a ReLU.\u001b[39;00m\n\u001b[1;32m     26\u001b[0m \n\u001b[0;32m   (...)\u001b[0m\n\u001b[1;32m     33\u001b[0m \u001b[39m  - cache: Object to give to the backward pass\u001b[39;00m\n\u001b[1;32m     34\u001b[0m \u001b[39m  \"\"\"\u001b[39;00m\n\u001b[0;32m---> 35\u001b[0m   a, conv_cache \u001b[39m=\u001b[39m conv_forward_fast(x, w, b, conv_param)\n\u001b[1;32m     36\u001b[0m   \u001b[39m# print(\"affine out shape\", a.shape)\u001b[39;00m\n\u001b[1;32m     37\u001b[0m   \u001b[39m# print(\"gamma shape\", gamma.shape)\u001b[39;00m\n\u001b[1;32m     38\u001b[0m   \u001b[39m# print(\"beta shape\", beta.shape)\u001b[39;00m\n\u001b[1;32m     39\u001b[0m   bn, bcache \u001b[39m=\u001b[39m spatial_batchnorm_forward(a, gamma, beta, bn_param)\n",
      "File \u001b[0;32m~/Desktop/HW5_code/utils/fast_layers.py:74\u001b[0m, in \u001b[0;36mconv_forward_strides\u001b[0;34m(x, w, b, conv_param)\u001b[0m\n\u001b[1;32m     71\u001b[0m x_cols\u001b[39m.\u001b[39mshape \u001b[39m=\u001b[39m (\u001b[39mint\u001b[39m(C \u001b[39m*\u001b[39m HH \u001b[39m*\u001b[39m WW), \u001b[39mint\u001b[39m(N \u001b[39m*\u001b[39m out_h \u001b[39m*\u001b[39m out_w))\n\u001b[1;32m     73\u001b[0m \u001b[39m# Now all our convolutions are a big matrix multiply\u001b[39;00m\n\u001b[0;32m---> 74\u001b[0m res \u001b[39m=\u001b[39m w\u001b[39m.\u001b[39;49mreshape(F, \u001b[39m-\u001b[39;49m\u001b[39m1\u001b[39;49m)\u001b[39m.\u001b[39;49mdot(x_cols) \u001b[39m+\u001b[39m b\u001b[39m.\u001b[39mreshape(\u001b[39m-\u001b[39m\u001b[39m1\u001b[39m, \u001b[39m1\u001b[39m)\n\u001b[1;32m     76\u001b[0m \u001b[39m# Reshape the output\u001b[39;00m\n\u001b[1;32m     77\u001b[0m res\u001b[39m.\u001b[39mshape \u001b[39m=\u001b[39m (F, N, \u001b[39mint\u001b[39m(out_h), \u001b[39mint\u001b[39m(out_w))\n",
      "\u001b[0;31mKeyboardInterrupt\u001b[0m: "
     ]
    }
   ],
   "source": [
    "# ================================================================ #\n",
    "# YOUR CODE HERE:\n",
    "#   Implement a CNN to achieve greater than 65% validation accuracy\n",
    "#   on CIFAR-10.\n",
    "# ================================================================ #\n",
    "\n",
    "model = BestCNN(weight_scale=0.001, hidden_dim=500, reg=0.005, filter_size=3, num_filters=32, use_batchnorm=True)\n",
    "\n",
    "solver = Solver(model, data,\n",
    "                num_epochs=10, batch_size=50,\n",
    "                update_rule='adam',\n",
    "                optim_config={\n",
    "                  'learning_rate': 1e-3,\n",
    "                },\n",
    "                verbose=True, print_every=100)\n",
    "solver.train()\n",
    "\n",
    "# ================================================================ #\n",
    "# END YOUR CODE HERE\n",
    "# ================================================================ #\n"
   ]
  },
  {
   "cell_type": "code",
   "execution_count": null,
   "metadata": {},
   "outputs": [],
   "source": []
  }
 ],
 "metadata": {
  "kernelspec": {
   "display_name": "Python 3.9.12 ('base')",
   "language": "python",
   "name": "python3"
  },
  "language_info": {
   "codemirror_mode": {
    "name": "ipython",
    "version": 3
   },
   "file_extension": ".py",
   "mimetype": "text/x-python",
   "name": "python",
   "nbconvert_exporter": "python",
   "pygments_lexer": "ipython3",
   "version": "3.9.12"
  },
  "pycharm": {
   "stem_cell": {
    "cell_type": "raw",
    "metadata": {
     "collapsed": false
    },
    "source": []
   }
  },
  "vscode": {
   "interpreter": {
    "hash": "547e4194a691f616bde1b3a4ad8b84843621c8bd0a314f34c8fca0869da20f13"
   }
  }
 },
 "nbformat": 4,
 "nbformat_minor": 2
}
