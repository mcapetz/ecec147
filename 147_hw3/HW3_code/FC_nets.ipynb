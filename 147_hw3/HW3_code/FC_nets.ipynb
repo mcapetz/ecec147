{
 "cells": [
  {
   "cell_type": "markdown",
   "metadata": {},
   "source": [
    "# Fully connected networks\n",
    "\n",
    "In the previous notebook, you implemented a simple two-layer neural network class.  However, this class is not modular.  If you wanted to change the number of layers, you would need to write a new loss and gradient function.  If you wanted to optimize the network with different optimizers, you'd need to write new training functions.  If you wanted to incorporate regularizations, you'd have to modify the loss and gradient function.  \n",
    "\n",
    "Instead of having to modify functions each time, for the rest of the class, we'll work in a more modular framework where we define forward and backward layers that calculate losses and gradients respectively.  Since the forward and backward layers share intermediate values that are useful for calculating both the loss and the gradient, we'll also have these function return \"caches\" which store useful intermediate values.\n",
    "\n",
    "The goal is that through this modular design, we can build different sized neural networks for various applications.\n",
    "\n",
    "In this HW #3, we'll define the basic architecture, and in HW #4, we'll build on this framework to implement different optimizers and regularizations (like BatchNorm and Dropout).\n",
    "\n"
   ]
  },
  {
   "cell_type": "markdown",
   "metadata": {},
   "source": [
    "## Modular layers\n",
    "\n",
    "This notebook will build modular layers in the following manner.  First, there will be a forward pass for a given layer with inputs (`x`) and return the output of that layer (`out`) as well as cached variables (`cache`) that will be used to calculate the gradient in the backward pass.\n",
    "\n",
    "```python\n",
    "def layer_forward(x, w):\n",
    "  \"\"\" Receive inputs x and weights w \"\"\"\n",
    "  # Do some computations ...\n",
    "  z = # ... some intermediate value\n",
    "  # Do some more computations ...\n",
    "  out = # the output\n",
    "   \n",
    "  cache = (x, w, z, out) # Values we need to compute gradients\n",
    "   \n",
    "  return out, cache\n",
    "```\n",
    "\n",
    "The backward pass will receive upstream derivatives and the `cache` object, and will return gradients with respect to the inputs and weights, like this:\n",
    "\n",
    "```python\n",
    "def layer_backward(dout, cache):\n",
    "  \"\"\"\n",
    "  Receive derivative of loss with respect to outputs and cache,\n",
    "  and compute derivative with respect to inputs.\n",
    "  \"\"\"\n",
    "  # Unpack cache values\n",
    "  x, w, z, out = cache\n",
    "  \n",
    "  # Use values in cache to compute derivatives\n",
    "  dx = # Derivative of loss with respect to x\n",
    "  dw = # Derivative of loss with respect to w\n",
    "  \n",
    "  return dx, dw\n",
    "```"
   ]
  },
  {
   "cell_type": "code",
   "execution_count": 1,
   "metadata": {},
   "outputs": [],
   "source": [
    "## Import and setups\n",
    "\n",
    "import time\n",
    "import numpy as np\n",
    "import matplotlib.pyplot as plt\n",
    "from nndl.fc_net import *\n",
    "from utils.data_utils import get_CIFAR10_data\n",
    "from utils.gradient_check import eval_numerical_gradient, eval_numerical_gradient_array\n",
    "from utils.solver import Solver\n",
    "\n",
    "%matplotlib inline\n",
    "plt.rcParams['figure.figsize'] = (10.0, 8.0) # set default size of plots\n",
    "plt.rcParams['image.interpolation'] = 'nearest'\n",
    "plt.rcParams['image.cmap'] = 'gray'\n",
    "\n",
    "# for auto-reloading external modules\n",
    "# see http://stackoverflow.com/questions/1907993/autoreload-of-modules-in-ipython\n",
    "%load_ext autoreload\n",
    "%autoreload 2\n",
    "\n",
    "def rel_error(x, y):\n",
    "  \"\"\" returns relative error \"\"\"\n",
    "  return np.max(np.abs(x - y) / (np.maximum(1e-8, np.abs(x) + np.abs(y))))"
   ]
  },
  {
   "cell_type": "code",
   "execution_count": 3,
   "metadata": {},
   "outputs": [
    {
     "name": "stdout",
     "output_type": "stream",
     "text": [
      "X_train: (49000, 3, 32, 32) \n",
      "y_train: (49000,) \n",
      "X_val: (1000, 3, 32, 32) \n",
      "y_val: (1000,) \n",
      "X_test: (1000, 3, 32, 32) \n",
      "y_test: (1000,) \n"
     ]
    }
   ],
   "source": [
    "# Load the (preprocessed) CIFAR10 data.\n",
    "data = get_CIFAR10_data()\n",
    "for k in data.keys():\n",
    "  print('{}: {} '.format(k, data[k].shape))"
   ]
  },
  {
   "cell_type": "markdown",
   "metadata": {},
   "source": [
    "## Linear layers\n",
    "\n",
    "In this section, we'll implement the forward and backward pass for the linear layers.\n",
    "\n",
    "The linear layer forward pass is the function `affine_forward` in `nndl/layers.py` and the backward pass is `affine_backward`.\n",
    "\n",
    "After you have implemented these, test your implementation by running the cell below."
   ]
  },
  {
   "cell_type": "markdown",
   "metadata": {},
   "source": [
    "### Affine layer forward pass\n",
    "\n",
    "Implement `affine_forward` and then test your code by running the following cell."
   ]
  },
  {
   "cell_type": "code",
   "execution_count": 5,
   "metadata": {},
   "outputs": [
    {
     "name": "stdout",
     "output_type": "stream",
     "text": [
      "Testing affine_forward function:\n",
      "difference: 9.769849468192957e-10\n"
     ]
    }
   ],
   "source": [
    "# Test the affine_forward function\n",
    "\n",
    "num_inputs = 2\n",
    "input_shape = (4, 5, 6)\n",
    "output_dim = 3\n",
    "\n",
    "input_size = num_inputs * np.prod(input_shape)\n",
    "weight_size = output_dim * np.prod(input_shape)\n",
    "\n",
    "x = np.linspace(-0.1, 0.5, num=input_size).reshape(num_inputs, *input_shape)\n",
    "w = np.linspace(-0.2, 0.3, num=weight_size).reshape(np.prod(input_shape), output_dim)\n",
    "b = np.linspace(-0.3, 0.1, num=output_dim)\n",
    "\n",
    "out, _ = affine_forward(x, w, b)\n",
    "correct_out = np.array([[ 1.49834967,  1.70660132,  1.91485297],\n",
    "                        [ 3.25553199,  3.5141327,   3.77273342]])\n",
    "\n",
    "# Compare your output with ours. The error should be around 1e-9.\n",
    "print('Testing affine_forward function:')\n",
    "print('difference: {}'.format(rel_error(out, correct_out)))"
   ]
  },
  {
   "cell_type": "markdown",
   "metadata": {},
   "source": [
    "### Affine layer backward pass\n",
    "\n",
    "Implement `affine_backward` and then test your code by running the following cell."
   ]
  },
  {
   "cell_type": "code",
   "execution_count": 8,
   "metadata": {},
   "outputs": [
    {
     "name": "stdout",
     "output_type": "stream",
     "text": [
      "dout (10, 5)\n",
      "w (6, 5)\n",
      "x shape (10, 2, 3)\n",
      "dx shape (10, 2, 3) 6 5\n",
      "dw shape (6, 5) 10 6\n",
      "db shape (5,) 5\n",
      "Testing affine_backward function:\n",
      "dx error: 4.6113274414386756e-10\n",
      "dw error: 5.992261138441068e-11\n",
      "db error: 1.6107986410934294e-10\n"
     ]
    }
   ],
   "source": [
    "# Test the affine_backward function\n",
    "\n",
    "x = np.random.randn(10, 2, 3)\n",
    "w = np.random.randn(6, 5)\n",
    "b = np.random.randn(5)\n",
    "dout = np.random.randn(10, 5)\n",
    "\n",
    "dx_num = eval_numerical_gradient_array(lambda x: affine_forward(x, w, b)[0], x, dout)\n",
    "dw_num = eval_numerical_gradient_array(lambda w: affine_forward(x, w, b)[0], w, dout)\n",
    "db_num = eval_numerical_gradient_array(lambda b: affine_forward(x, w, b)[0], b, dout)\n",
    "\n",
    "_, cache = affine_forward(x, w, b)\n",
    "dx, dw, db = affine_backward(dout, cache)\n",
    "\n",
    "# The error should be around 1e-10\n",
    "print('Testing affine_backward function:')\n",
    "print('dx error: {}'.format(rel_error(dx_num, dx)))\n",
    "print('dw error: {}'.format(rel_error(dw_num, dw)))\n",
    "print('db error: {}'.format(rel_error(db_num, db)))"
   ]
  },
  {
   "cell_type": "markdown",
   "metadata": {},
   "source": [
    "## Activation layers\n",
    "\n",
    "In this section you'll implement the ReLU activation."
   ]
  },
  {
   "cell_type": "markdown",
   "metadata": {},
   "source": [
    "### ReLU forward pass\n",
    "\n",
    "Implement the `relu_forward` function in `nndl/layers.py` and then test your code by running the following cell."
   ]
  },
  {
   "cell_type": "code",
   "execution_count": 9,
   "metadata": {},
   "outputs": [
    {
     "name": "stdout",
     "output_type": "stream",
     "text": [
      "Testing relu_forward function:\n",
      "difference: 4.999999798022158e-08\n"
     ]
    }
   ],
   "source": [
    "# Test the relu_forward function\n",
    "\n",
    "x = np.linspace(-0.5, 0.5, num=12).reshape(3, 4)\n",
    "\n",
    "out, _ = relu_forward(x)\n",
    "correct_out = np.array([[ 0.,          0.,          0.,          0.,        ],\n",
    "                        [ 0.,          0.,          0.04545455,  0.13636364,],\n",
    "                        [ 0.22727273,  0.31818182,  0.40909091,  0.5,       ]])\n",
    "\n",
    "# Compare your output with ours. The error should be around 1e-8\n",
    "print('Testing relu_forward function:')\n",
    "print('difference: {}'.format(rel_error(out, correct_out)))"
   ]
  },
  {
   "cell_type": "markdown",
   "metadata": {},
   "source": [
    "### ReLU backward pass\n",
    "Implement the `relu_backward` function in `nndl/layers.py` and then test your code by running the following cell."
   ]
  },
  {
   "cell_type": "code",
   "execution_count": 10,
   "metadata": {},
   "outputs": [
    {
     "name": "stdout",
     "output_type": "stream",
     "text": [
      "Testing relu_backward function:\n",
      "dx error: 3.27560459558687e-12\n"
     ]
    }
   ],
   "source": [
    "x = np.random.randn(10, 10)\n",
    "dout = np.random.randn(*x.shape)\n",
    "\n",
    "dx_num = eval_numerical_gradient_array(lambda x: relu_forward(x)[0], x, dout)\n",
    "\n",
    "_, cache = relu_forward(x)\n",
    "dx = relu_backward(dout, cache)\n",
    "\n",
    "# The error should be around 1e-12\n",
    "print('Testing relu_backward function:')\n",
    "print('dx error: {}'.format(rel_error(dx_num, dx)))"
   ]
  },
  {
   "cell_type": "markdown",
   "metadata": {},
   "source": [
    "## Combining the affine and ReLU layers\n",
    "\n",
    "Often times, an affine layer will be followed by a ReLU layer. So let's make one that puts them together.  Layers that are combined are stored in `nndl/layer_utils.py`.  "
   ]
  },
  {
   "cell_type": "markdown",
   "metadata": {},
   "source": [
    "### Affine-ReLU layers\n",
    "We've implemented `affine_relu_forward()` and `affine_relu_backward` in ``nndl/layer_utils.py``.  Take a look at them to make sure you understand what's going on.  Then run the following cell to ensure its implemented correctly."
   ]
  },
  {
   "cell_type": "code",
   "execution_count": 12,
   "metadata": {},
   "outputs": [
    {
     "name": "stdout",
     "output_type": "stream",
     "text": [
      "Testing affine_relu_forward and affine_relu_backward:\n",
      "dx error: 9.272137686162983e-11\n",
      "dw error: 3.880773812009996e-10\n",
      "db error: 7.826730327496857e-12\n"
     ]
    }
   ],
   "source": [
    "from nndl.layer_utils import affine_relu_forward, affine_relu_backward\n",
    "\n",
    "x = np.random.randn(2, 3, 4)\n",
    "w = np.random.randn(12, 10)\n",
    "b = np.random.randn(10)\n",
    "dout = np.random.randn(2, 10)\n",
    "\n",
    "out, cache = affine_relu_forward(x, w, b)\n",
    "dx, dw, db = affine_relu_backward(dout, cache)\n",
    "\n",
    "dx_num = eval_numerical_gradient_array(lambda x: affine_relu_forward(x, w, b)[0], x, dout)\n",
    "dw_num = eval_numerical_gradient_array(lambda w: affine_relu_forward(x, w, b)[0], w, dout)\n",
    "db_num = eval_numerical_gradient_array(lambda b: affine_relu_forward(x, w, b)[0], b, dout)\n",
    "\n",
    "print('Testing affine_relu_forward and affine_relu_backward:')\n",
    "print('dx error: {}'.format(rel_error(dx_num, dx)))\n",
    "print('dw error: {}'.format(rel_error(dw_num, dw)))\n",
    "print('db error: {}'.format(rel_error(db_num, db)))"
   ]
  },
  {
   "cell_type": "markdown",
   "metadata": {},
   "source": [
    "## Softmax loss\n",
    "\n",
    "You've already implemented it, so we have written it in `layers.py`.  The following code will ensure they are working correctly."
   ]
  },
  {
   "cell_type": "code",
   "execution_count": 13,
   "metadata": {},
   "outputs": [
    {
     "name": "stdout",
     "output_type": "stream",
     "text": [
      "\n",
      "Testing softmax_loss:\n",
      "loss: 2.302827467260296\n",
      "dx error: 7.522993108189267e-09\n"
     ]
    }
   ],
   "source": [
    "num_classes, num_inputs = 10, 50\n",
    "x = 0.001 * np.random.randn(num_inputs, num_classes)\n",
    "y = np.random.randint(num_classes, size=num_inputs)\n",
    "\n",
    "\n",
    "\n",
    "dx_num = eval_numerical_gradient(lambda x: softmax_loss(x, y)[0], x, verbose=False)\n",
    "loss, dx = softmax_loss(x, y)\n",
    "\n",
    "# Test softmax_loss function. Loss should be 2.3 and dx error should be 1e-8\n",
    "print('\\nTesting softmax_loss:')\n",
    "print('loss: {}'.format(loss))\n",
    "print('dx error: {}'.format(rel_error(dx_num, dx)))"
   ]
  },
  {
   "cell_type": "markdown",
   "metadata": {},
   "source": [
    "## Implementation of a two-layer NN\n",
    "\n",
    "In `nndl/fc_net.py`, implement the class `TwoLayerNet` which uses the layers you made here.  When you have finished, the following cell will test your implementation."
   ]
  },
  {
   "cell_type": "code",
   "execution_count": 79,
   "metadata": {},
   "outputs": [
    {
     "name": "stdout",
     "output_type": "stream",
     "text": [
      "Testing initialization ... \n",
      "Testing test-time forward pass ... \n",
      "Testing training loss (no regularization)\n",
      "Running numeric gradient check with reg = 0.0\n",
      "W1 relative error: 1.5215703686475096e-08\n",
      "W2 relative error: 3.2068321167375225e-10\n",
      "b1 relative error: 8.368195737354163e-09\n",
      "b2 relative error: 4.3291360264321544e-10\n",
      "Running numeric gradient check with reg = 0.7\n",
      "W1 relative error: 2.527915175868136e-07\n",
      "W2 relative error: 2.8508510893102143e-08\n",
      "b1 relative error: 1.5646801536371197e-08\n",
      "b2 relative error: 7.759095355706557e-10\n"
     ]
    }
   ],
   "source": [
    "N, D, H, C = 3, 5, 50, 7\n",
    "X = np.random.randn(N, D)\n",
    "y = np.random.randint(C, size=N)\n",
    "\n",
    "std = 1e-2\n",
    "model = TwoLayerNet(input_dim=D, hidden_dims=H, num_classes=C, weight_scale=std)\n",
    "\n",
    "print('Testing initialization ... ')\n",
    "W1_std = abs(model.params['W1'].std() - std)\n",
    "b1 = model.params['b1']\n",
    "W2_std = abs(model.params['W2'].std() - std)\n",
    "b2 = model.params['b2']\n",
    "assert W1_std < std / 10, 'First layer weights do not seem right'\n",
    "assert np.all(b1 == 0), 'First layer biases do not seem right'\n",
    "assert W2_std < std / 10, 'Second layer weights do not seem right'\n",
    "assert np.all(b2 == 0), 'Second layer biases do not seem right'\n",
    "\n",
    "print('Testing test-time forward pass ... ')\n",
    "model.params['W1'] = np.linspace(-0.7, 0.3, num=D*H).reshape(D, H)\n",
    "model.params['b1'] = np.linspace(-0.1, 0.9, num=H)\n",
    "model.params['W2'] = np.linspace(-0.3, 0.4, num=H*C).reshape(H, C)\n",
    "model.params['b2'] = np.linspace(-0.9, 0.1, num=C)\n",
    "X = np.linspace(-5.5, 4.5, num=N*D).reshape(D, N).T\n",
    "scores = model.loss(X)\n",
    "correct_scores = np.asarray(\n",
    "  [[11.53165108,  12.2917344,   13.05181771,  13.81190102,  14.57198434, 15.33206765,  16.09215096],\n",
    "   [12.05769098,  12.74614105,  13.43459113,  14.1230412,   14.81149128, 15.49994135,  16.18839143],\n",
    "   [12.58373087,  13.20054771,  13.81736455,  14.43418138,  15.05099822, 15.66781506,  16.2846319 ]])\n",
    "scores_diff = np.abs(scores - correct_scores).sum()\n",
    "assert scores_diff < 1e-6, 'Problem with test-time forward pass'\n",
    "\n",
    "print('Testing training loss (no regularization)')\n",
    "y = np.asarray([0, 5, 1])\n",
    "loss, grads = model.loss(X, y)\n",
    "correct_loss = 3.4702243556\n",
    "assert abs(loss - correct_loss) < 1e-10, 'Problem with training-time loss'\n",
    "\n",
    "model.reg = 1.0\n",
    "loss, grads = model.loss(X, y)\n",
    "correct_loss = 26.5948426952\n",
    "assert abs(loss - correct_loss) < 1e-10, 'Problem with regularization loss'\n",
    "\n",
    "for reg in [0.0, 0.7]:\n",
    "  print('Running numeric gradient check with reg = {}'.format(reg))\n",
    "  model.reg = reg\n",
    "  loss, grads = model.loss(X, y)\n",
    "\n",
    "  for name in sorted(grads):\n",
    "    f = lambda _: model.loss(X, y)[0]\n",
    "    grad_num = eval_numerical_gradient(f, model.params[name], verbose=False)\n",
    "    print('{} relative error: {}'.format(name, rel_error(grad_num, grads[name])))"
   ]
  },
  {
   "cell_type": "markdown",
   "metadata": {},
   "source": [
    "## Solver \n",
    "\n",
    "We will now use the utils Solver class to train these networks.  Familiarize yourself with the API in `utils/solver.py`.  After you have done so, declare an instance of a TwoLayerNet with 200 units and then train it with the Solver.  Choose parameters so that your validation accuracy is at least 50%."
   ]
  },
  {
   "cell_type": "code",
   "execution_count": 96,
   "metadata": {
    "scrolled": false
   },
   "outputs": [
    {
     "name": "stdout",
     "output_type": "stream",
     "text": [
      "(Iteration 1 / 4900) loss: 2.306589\n",
      "(Epoch 0 / 10) train acc: 0.137333; val_acc: 0.137000\n",
      "(Iteration 101 / 4900) loss: 1.851719\n",
      "(Iteration 201 / 4900) loss: 1.697929\n",
      "(Iteration 301 / 4900) loss: 1.678193\n",
      "(Iteration 401 / 4900) loss: 1.637067\n",
      "(Epoch 1 / 10) train acc: 0.464333; val_acc: 0.448000\n",
      "(Iteration 501 / 4900) loss: 1.449944\n",
      "(Iteration 601 / 4900) loss: 1.458583\n",
      "(Iteration 701 / 4900) loss: 1.513891\n",
      "(Iteration 801 / 4900) loss: 1.288612\n",
      "(Iteration 901 / 4900) loss: 1.388139\n",
      "(Epoch 2 / 10) train acc: 0.485000; val_acc: 0.474000\n",
      "(Iteration 1001 / 4900) loss: 1.270315\n",
      "(Iteration 1101 / 4900) loss: 1.115091\n",
      "(Iteration 1201 / 4900) loss: 1.211733\n",
      "(Iteration 1301 / 4900) loss: 1.155765\n",
      "(Iteration 1401 / 4900) loss: 1.240034\n",
      "(Epoch 3 / 10) train acc: 0.541667; val_acc: 0.507000\n",
      "(Iteration 1501 / 4900) loss: 1.346661\n",
      "(Iteration 1601 / 4900) loss: 1.391279\n",
      "(Iteration 1701 / 4900) loss: 1.287578\n",
      "(Iteration 1801 / 4900) loss: 1.231270\n",
      "(Iteration 1901 / 4900) loss: 1.326436\n",
      "(Epoch 4 / 10) train acc: 0.547333; val_acc: 0.512000\n",
      "(Iteration 2001 / 4900) loss: 1.387629\n",
      "(Iteration 2101 / 4900) loss: 1.340292\n",
      "(Iteration 2201 / 4900) loss: 1.231554\n",
      "(Iteration 2301 / 4900) loss: 1.257639\n",
      "(Iteration 2401 / 4900) loss: 1.393826\n",
      "(Epoch 5 / 10) train acc: 0.555667; val_acc: 0.504000\n",
      "(Iteration 2501 / 4900) loss: 1.396578\n",
      "(Iteration 2601 / 4900) loss: 1.217887\n",
      "(Iteration 2701 / 4900) loss: 1.190587\n",
      "(Iteration 2801 / 4900) loss: 1.391394\n",
      "(Iteration 2901 / 4900) loss: 1.265140\n",
      "(Epoch 6 / 10) train acc: 0.574333; val_acc: 0.490000\n",
      "(Iteration 3001 / 4900) loss: 1.163238\n",
      "(Iteration 3101 / 4900) loss: 1.353440\n",
      "(Iteration 3201 / 4900) loss: 1.012828\n",
      "(Iteration 3301 / 4900) loss: 1.111804\n",
      "(Iteration 3401 / 4900) loss: 1.107361\n",
      "(Epoch 7 / 10) train acc: 0.607667; val_acc: 0.502000\n",
      "(Iteration 3501 / 4900) loss: 1.064390\n",
      "(Iteration 3601 / 4900) loss: 1.077404\n",
      "(Iteration 3701 / 4900) loss: 1.041872\n",
      "(Iteration 3801 / 4900) loss: 1.019779\n",
      "(Iteration 3901 / 4900) loss: 1.071310\n",
      "(Epoch 8 / 10) train acc: 0.643000; val_acc: 0.513000\n",
      "(Iteration 4001 / 4900) loss: 1.097171\n",
      "(Iteration 4101 / 4900) loss: 1.041861\n",
      "(Iteration 4201 / 4900) loss: 1.144432\n",
      "(Iteration 4301 / 4900) loss: 1.062828\n",
      "(Iteration 4401 / 4900) loss: 1.066107\n",
      "(Epoch 9 / 10) train acc: 0.610000; val_acc: 0.501000\n",
      "(Iteration 4501 / 4900) loss: 1.046569\n",
      "(Iteration 4601 / 4900) loss: 0.967775\n",
      "(Iteration 4701 / 4900) loss: 1.135792\n",
      "(Iteration 4801 / 4900) loss: 0.922348\n",
      "(Epoch 10 / 10) train acc: 0.648000; val_acc: 0.522000\n"
     ]
    }
   ],
   "source": [
    "model = TwoLayerNet()\n",
    "solver = None\n",
    "\n",
    "# ================================================================ #\n",
    "# YOUR CODE HERE:\n",
    "#   Declare an instance of a TwoLayerNet and then train \n",
    "#   it with the Solver. Choose hyperparameters so that your validation \n",
    "#   accuracy is at least 50%.  We won't have you optimize this further\n",
    "#   since you did it in the previous notebook.\n",
    "#\n",
    "# ================================================================ #\n",
    "model = TwoLayerNet(input_dim=3*32*32, hidden_dims=200, num_classes=10)\n",
    "data = get_CIFAR10_data()\n",
    "solver = Solver(model, data,\n",
    "                    update_rule='sgd',\n",
    "                    optim_config={\n",
    "                      'learning_rate': 1e-3,\n",
    "                    },\n",
    "                    lr_decay=0.95,\n",
    "                    num_epochs=10, batch_size=100,\n",
    "                    print_every=100, num_train_samples=3000) # how to declare instance w 200 units?\n",
    "\n",
    "solver.train()\n",
    "\n",
    "\n",
    "\n",
    "# ================================================================ #\n",
    "# END YOUR CODE HERE\n",
    "# ================================================================ #"
   ]
  },
  {
   "cell_type": "code",
   "execution_count": 97,
   "metadata": {},
   "outputs": [
    {
     "data": {
      "image/png": "[encoded data removed]",
      "text/plain": [
       "<Figure size 1080x864 with 2 Axes>"
      ]
     },
     "metadata": {
      "needs_background": "light"
     },
     "output_type": "display_data"
    }
   ],
   "source": [
    "# Run this cell to visualize training loss and train / val accuracy\n",
    "\n",
    "plt.subplot(2, 1, 1)\n",
    "plt.title('Training loss')\n",
    "plt.plot(solver.loss_history, 'o')\n",
    "plt.xlabel('Iteration')\n",
    "\n",
    "plt.subplot(2, 1, 2)\n",
    "plt.title('Accuracy')\n",
    "plt.plot(solver.train_acc_history, '-o', label='train')\n",
    "plt.plot(solver.val_acc_history, '-o', label='val')\n",
    "plt.plot([0.5] * len(solver.val_acc_history), 'k--')\n",
    "plt.xlabel('Epoch')\n",
    "plt.legend(loc='lower right')\n",
    "plt.gcf().set_size_inches(15, 12)\n",
    "plt.show()"
   ]
  },
  {
   "cell_type": "markdown",
   "metadata": {},
   "source": [
    "## Multilayer Neural Network\n",
    "\n",
    "Now, we implement a multi-layer neural network.\n",
    "\n",
    "Read through the `FullyConnectedNet` class in the file `nndl/fc_net.py`.\n",
    "\n",
    "Implement the initialization, the forward pass, and the backward pass.  There will be lines for batchnorm and dropout layers and caches; ignore these all for now.  That'll be in HW #4."
   ]
  },
  {
   "cell_type": "code",
   "execution_count": 323,
   "metadata": {},
   "outputs": [
    {
     "name": "stdout",
     "output_type": "stream",
     "text": [
      "Running check with reg = 0\n",
      "Initial loss: 2.304351726737881\n",
      "W1 relative error: 2.7493890788638557e-07\n",
      "W2 relative error: 3.7279521977638624e-07\n",
      "W3 relative error: 3.8546101120557736e-07\n",
      "b1 relative error: 1.7666727565980365e-08\n",
      "b2 relative error: 1.2110105191568281e-08\n",
      "b3 relative error: 8.914590960924575e-11\n",
      "Running check with reg = 3.14\n",
      "Initial loss: 7.032554247856135\n",
      "W1 relative error: 7.76263593984685e-09\n",
      "W2 relative error: 7.606066279049599e-08\n",
      "W3 relative error: 2.0078346520220995e-08\n",
      "b1 relative error: 1.5856469842866925e-08\n",
      "b2 relative error: 8.096749833757487e-09\n",
      "b3 relative error: 1.7697076134496875e-10\n"
     ]
    }
   ],
   "source": [
    "N, D, H1, H2, C = 2, 15, 20, 30, 10\n",
    "X = np.random.randn(N, D)\n",
    "y = np.random.randint(C, size=(N,))\n",
    "\n",
    "for reg in [0, 3.14]:\n",
    "  print('Running check with reg = {}'.format(reg))\n",
    "  model = FullyConnectedNet([H1, H2], input_dim=D, num_classes=C,\n",
    "                            reg=reg, weight_scale=5e-2, dtype=np.float64)\n",
    "  loss, grads = model.loss(X, y)\n",
    "  print('Initial loss: {}'.format(loss))\n",
    "\n",
    "  for name in sorted(grads):\n",
    "    f = lambda _: model.loss(X, y)[0]\n",
    "    grad_num = eval_numerical_gradient(f, model.params[name], verbose=False, h=1e-5)\n",
    "    print('{} relative error: {}'.format(name, rel_error(grad_num, grads[name])))"
   ]
  },
  {
   "cell_type": "code",
   "execution_count": 341,
   "metadata": {},
   "outputs": [
    {
     "name": "stdout",
     "output_type": "stream",
     "text": [
      "(Iteration 1 / 40) loss: 2.377337\n",
      "(Epoch 0 / 20) train acc: 0.220000; val_acc: 0.115000\n",
      "(Epoch 1 / 20) train acc: 0.300000; val_acc: 0.115000\n",
      "(Epoch 2 / 20) train acc: 0.480000; val_acc: 0.159000\n",
      "(Epoch 3 / 20) train acc: 0.560000; val_acc: 0.120000\n",
      "(Epoch 4 / 20) train acc: 0.540000; val_acc: 0.166000\n",
      "(Epoch 5 / 20) train acc: 0.700000; val_acc: 0.160000\n",
      "(Iteration 11 / 40) loss: 1.057305\n",
      "(Epoch 6 / 20) train acc: 0.840000; val_acc: 0.203000\n",
      "(Epoch 7 / 20) train acc: 0.800000; val_acc: 0.191000\n",
      "(Epoch 8 / 20) train acc: 0.860000; val_acc: 0.193000\n",
      "(Epoch 9 / 20) train acc: 0.920000; val_acc: 0.188000\n",
      "(Epoch 10 / 20) train acc: 0.900000; val_acc: 0.201000\n",
      "(Iteration 21 / 40) loss: 0.216215\n",
      "(Epoch 11 / 20) train acc: 0.960000; val_acc: 0.197000\n",
      "(Epoch 12 / 20) train acc: 0.980000; val_acc: 0.187000\n",
      "(Epoch 13 / 20) train acc: 0.960000; val_acc: 0.194000\n",
      "(Epoch 14 / 20) train acc: 0.940000; val_acc: 0.165000\n",
      "(Epoch 15 / 20) train acc: 0.940000; val_acc: 0.176000\n",
      "(Iteration 31 / 40) loss: 0.059425\n",
      "(Epoch 16 / 20) train acc: 0.960000; val_acc: 0.195000\n",
      "(Epoch 17 / 20) train acc: 0.980000; val_acc: 0.192000\n",
      "(Epoch 18 / 20) train acc: 1.000000; val_acc: 0.206000\n",
      "(Epoch 19 / 20) train acc: 1.000000; val_acc: 0.207000\n",
      "(Epoch 20 / 20) train acc: 1.000000; val_acc: 0.197000\n"
     ]
    },
    {
     "data": {
      "image/png": "[encoded data removed]",
      "text/plain": [
       "<Figure size 720x576 with 1 Axes>"
      ]
     },
     "metadata": {
      "needs_background": "light"
     },
     "output_type": "display_data"
    }
   ],
   "source": [
    "# Use the three layer neural network to overfit a small dataset.\n",
    "\n",
    "num_train = 50\n",
    "small_data = {\n",
    "  'X_train': data['X_train'][:num_train],\n",
    "  'y_train': data['y_train'][:num_train],\n",
    "  'X_val': data['X_val'],\n",
    "  'y_val': data['y_val'],\n",
    "}\n",
    "\n",
    "\n",
    "#### !!!!!!\n",
    "# Play around with the weight_scale and learning_rate so that you can overfit a small dataset.\n",
    "# Your training accuracy should be 1.0 to receive full credit on this part.\n",
    "\n",
    "weight_scale = 1e-2\n",
    "learning_rate = 1e-2\n",
    "\n",
    "\n",
    "model = FullyConnectedNet([100, 100],\n",
    "              weight_scale=weight_scale, dtype=np.float64)\n",
    "solver = Solver(model, small_data,\n",
    "                print_every=10, num_epochs=20, batch_size=25,\n",
    "                update_rule='sgd',\n",
    "                optim_config={\n",
    "                  'learning_rate': learning_rate,\n",
    "                }\n",
    "         )\n",
    "solver.train()\n",
    "\n",
    "plt.plot(solver.loss_history, 'o')\n",
    "plt.title('Training loss history')\n",
    "plt.xlabel('Iteration')\n",
    "plt.ylabel('Training loss')\n",
    "plt.show()"
   ]
  },
  {
   "cell_type": "code",
   "execution_count": null,
   "metadata": {},
   "outputs": [],
   "source": []
  },
  {
   "cell_type": "code",
   "execution_count": null,
   "metadata": {},
   "outputs": [],
   "source": []
  }
 ],
 "metadata": {
  "kernelspec": {
   "display_name": ".env",
   "language": "python",
   "name": "python3"
  },
  "language_info": {
   "codemirror_mode": {
    "name": "ipython",
    "version": 3
   },
   "file_extension": ".py",
   "mimetype": "text/x-python",
   "name": "python",
   "nbconvert_exporter": "python",
   "pygments_lexer": "ipython3",
   "version": "3.10.4"
  },
  "varInspector": {
   "cols": {
    "lenName": 16,
    "lenType": 16,
    "lenVar": 40
   },
   "kernels_config": {
    "python": {
     "delete_cmd_postfix": "",
     "delete_cmd_prefix": "del ",
     "library": "var_list.py",
     "varRefreshCmd": "print(var_dic_list())"
    },
    "r": {
     "delete_cmd_postfix": ") ",
     "delete_cmd_prefix": "rm(",
     "library": "var_list.r",
     "varRefreshCmd": "cat(var_dic_list()) "
    }
   },
   "types_to_exclude": [
    "module",
    "function",
    "builtin_function_or_method",
    "instance",
    "_Feature"
   ],
   "window_display": true
  },
  "vscode": {
   "interpreter": {
    "hash": "252c9b5388febaf3f3379f43bd292b890350f6c2b5f1e4c609eb5b27cff26d3b"
   }
  }
 },
 "nbformat": 4,
 "nbformat_minor": 2
}
