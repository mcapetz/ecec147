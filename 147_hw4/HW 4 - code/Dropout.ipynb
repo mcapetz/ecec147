{
 "cells": [
  {
   "cell_type": "markdown",
   "metadata": {},
   "source": [
    "# Dropout\n",
    "\n",
    "In this notebook, you will implement dropout.  Then we will ask you to train a network with batchnorm and dropout, and acheive over 55% accuracy on CIFAR-10.\n",
    "\n",
    "Utils has a solid API for building these modular frameworks and training them, and we will use this very well implemented framework as opposed to \"reinventing the wheel.\"  This includes using the Solver, various utility functions, and the layer structure.  This also includes nndl.fc_net, nndl.layers, and nndl.layer_utils."
   ]
  },
  {
   "cell_type": "code",
   "execution_count": 17,
   "metadata": {
    "collapsed": true
   },
   "outputs": [
    {
     "name": "stdout",
     "output_type": "stream",
     "text": [
      "The autoreload extension is already loaded. To reload it, use:\n",
      "  %reload_ext autoreload\n"
     ]
    }
   ],
   "source": [
    "## Import and setups\n",
    "\n",
    "import time\n",
    "import numpy as np\n",
    "import matplotlib.pyplot as plt\n",
    "from nndl.fc_net import *\n",
    "from nndl.layers import *\n",
    "from utils.data_utils import get_CIFAR10_data\n",
    "from utils.gradient_check import eval_numerical_gradient, eval_numerical_gradient_array\n",
    "from utils.solver import Solver\n",
    "\n",
    "%matplotlib inline\n",
    "plt.rcParams['figure.figsize'] = (10.0, 8.0) # set default size of plots\n",
    "plt.rcParams['image.interpolation'] = 'nearest'\n",
    "plt.rcParams['image.cmap'] = 'gray'\n",
    "\n",
    "# for auto-reloading external modules\n",
    "# see http://stackoverflow.com/questions/1907993/autoreload-of-modules-in-ipython\n",
    "%load_ext autoreload\n",
    "%autoreload 2\n",
    "\n",
    "def rel_error(x, y):\n",
    "    \"\"\" returns relative error \"\"\"\n",
    "    return np.max(np.abs(x - y) / (np.maximum(1e-8, np.abs(x) + np.abs(y))))"
   ]
  },
  {
   "cell_type": "code",
   "execution_count": 18,
   "metadata": {},
   "outputs": [
    {
     "name": "stdout",
     "output_type": "stream",
     "text": [
      "X_train: (49000, 3, 32, 32) \n",
      "y_train: (49000,) \n",
      "X_val: (1000, 3, 32, 32) \n",
      "y_val: (1000,) \n",
      "X_test: (1000, 3, 32, 32) \n",
      "y_test: (1000,) \n"
     ]
    }
   ],
   "source": [
    "# Load the (preprocessed) CIFAR10 data.\n",
    "\n",
    "data = get_CIFAR10_data()\n",
    "for k in data.keys():\n",
    "    print('{}: {} '.format(k, data[k].shape))"
   ]
  },
  {
   "cell_type": "markdown",
   "metadata": {},
   "source": [
    "## Dropout forward pass\n",
    "\n",
    "Implement the training and test time dropout forward pass, `dropout_forward`, in `nndl/layers.py`. After that, test your implementation by running the following cell."
   ]
  },
  {
   "cell_type": "code",
   "execution_count": 19,
   "metadata": {},
   "outputs": [
    {
     "name": "stdout",
     "output_type": "stream",
     "text": [
      "Running tests with p =  0.3\n",
      "Mean of input:  10.001199068997368\n",
      "Mean of train-time output:  10.0700616634419\n",
      "Mean of test-time output:  10.001199068997368\n",
      "Fraction of train-time output set to zero:  0.697984\n",
      "Fraction of test-time output set to zero:  0.0\n",
      "Running tests with p =  0.6\n",
      "Mean of input:  10.001199068997368\n",
      "Mean of train-time output:  10.017545453767633\n",
      "Mean of test-time output:  10.001199068997368\n",
      "Fraction of train-time output set to zero:  0.398944\n",
      "Fraction of test-time output set to zero:  0.0\n",
      "Running tests with p =  0.75\n",
      "Mean of input:  10.001199068997368\n",
      "Mean of train-time output:  9.999852007144597\n",
      "Mean of test-time output:  10.001199068997368\n",
      "Fraction of train-time output set to zero:  0.250056\n",
      "Fraction of test-time output set to zero:  0.0\n"
     ]
    }
   ],
   "source": [
    "x = np.random.randn(500, 500) + 10\n",
    "\n",
    "for p in [0.3, 0.6, 0.75]:\n",
    "    out, _ = dropout_forward(x, {'mode': 'train', 'p': p})\n",
    "    out_test, _ = dropout_forward(x, {'mode': 'test', 'p': p})\n",
    "\n",
    "    print('Running tests with p = ', p)\n",
    "    print('Mean of input: ', x.mean())\n",
    "    print('Mean of train-time output: ', out.mean())\n",
    "    print('Mean of test-time output: ', out_test.mean())\n",
    "    print('Fraction of train-time output set to zero: ', (out == 0).mean())\n",
    "    print('Fraction of test-time output set to zero: ', (out_test == 0).mean())"
   ]
  },
  {
   "cell_type": "markdown",
   "metadata": {},
   "source": [
    "## Dropout backward pass\n",
    "\n",
    "Implement the backward pass, `dropout_backward`, in `nndl/layers.py`.  After that, test your gradients by running the following cell:"
   ]
  },
  {
   "cell_type": "code",
   "execution_count": 20,
   "metadata": {},
   "outputs": [
    {
     "name": "stdout",
     "output_type": "stream",
     "text": [
      "dx relative error:  5.445610892205213e-11\n"
     ]
    }
   ],
   "source": [
    "x = np.random.randn(10, 10) + 10\n",
    "dout = np.random.randn(*x.shape)\n",
    "\n",
    "dropout_param = {'mode': 'train', 'p': 0.8, 'seed': 123}\n",
    "out, cache = dropout_forward(x, dropout_param)\n",
    "dx = dropout_backward(dout, cache)\n",
    "dx_num = eval_numerical_gradient_array(lambda xx: dropout_forward(xx, dropout_param)[0], x, dout)\n",
    "\n",
    "print('dx relative error: ', rel_error(dx, dx_num))"
   ]
  },
  {
   "cell_type": "markdown",
   "metadata": {},
   "source": [
    "## Implement a fully connected neural network with dropout layers\n",
    "\n",
    "Modify the `FullyConnectedNet()` class in `nndl/fc_net.py` to incorporate dropout.  A dropout layer should be incorporated after every ReLU layer.  Concretely, there shouldn't be a dropout at the output layer since there is no ReLU at the output layer. You will need to modify the class in the following areas:\n",
    "\n",
    "(1) In the forward pass, you will need to incorporate a dropout layer after every relu layer.\n",
    "\n",
    "(2) In the backward pass, you will need to incorporate a dropout backward pass layer.\n",
    "\n",
    "Check your implementation by running the following code.  Our W1 gradient relative error is on the order of 1e-6 (the largest of all the relative errors)."
   ]
  },
  {
   "cell_type": "code",
   "execution_count": 21,
   "metadata": {},
   "outputs": [
    {
     "name": "stdout",
     "output_type": "stream",
     "text": [
      "Running check with dropout =  0.5\n",
      "Initial loss:  2.309771209610118\n",
      "W1 relative error: 2.694274363733021e-07\n",
      "W2 relative error: 7.439246147919978e-08\n",
      "W3 relative error: 1.910371122296728e-08\n",
      "b1 relative error: 4.112891126518e-09\n",
      "b2 relative error: 5.756217724722137e-10\n",
      "b3 relative error: 1.3204470857080166e-10\n",
      "\n",
      "\n",
      "Running check with dropout =  0.75\n",
      "Initial loss:  2.306133548427975\n",
      "W1 relative error: 8.72986097970181e-08\n",
      "W2 relative error: 2.9777307885797295e-07\n",
      "W3 relative error: 1.8832780806174298e-08\n",
      "b1 relative error: 5.379486003985169e-08\n",
      "b2 relative error: 3.6529949080385546e-09\n",
      "b3 relative error: 9.987242764516995e-11\n",
      "\n",
      "\n",
      "Running check with dropout =  1.0\n",
      "Initial loss:  2.3053332250963194\n",
      "W1 relative error: 1.2744095365229032e-06\n",
      "W2 relative error: 4.678743300473988e-07\n",
      "W3 relative error: 4.331673892536035e-08\n",
      "b1 relative error: 4.0853539035931665e-08\n",
      "b2 relative error: 1.951342257912746e-09\n",
      "b3 relative error: 9.387142701440351e-11\n",
      "\n",
      "\n"
     ]
    }
   ],
   "source": [
    "N, D, H1, H2, C = 2, 15, 20, 30, 10\n",
    "X = np.random.randn(N, D)\n",
    "y = np.random.randint(C, size=(N,))\n",
    "\n",
    "for dropout in [0.5, 0.75, 1.0]:\n",
    "    print('Running check with dropout = ', dropout)\n",
    "    model = FullyConnectedNet([H1, H2], input_dim=D, num_classes=C,\n",
    "                              weight_scale=5e-2, dtype=np.float64,\n",
    "                              dropout=dropout, seed=123)\n",
    "\n",
    "    loss, grads = model.loss(X, y)\n",
    "    print('Initial loss: ', loss)\n",
    "\n",
    "    for name in sorted(grads):\n",
    "        f = lambda _: model.loss(X, y)[0]\n",
    "        grad_num = eval_numerical_gradient(f, model.params[name], verbose=False, h=1e-5)\n",
    "        print('{} relative error: {}'.format(name, rel_error(grad_num, grads[name])))\n",
    "    print('\\n')"
   ]
  },
  {
   "cell_type": "markdown",
   "metadata": {},
   "source": [
    "## Dropout as a regularizer\n",
    "\n",
    "In class, we claimed that dropout acts as a regularizer by effectively bagging.  To check this, we will train two small networks, one with dropout and one without dropout.  "
   ]
  },
  {
   "cell_type": "code",
   "execution_count": 22,
   "metadata": {},
   "outputs": [
    {
     "name": "stdout",
     "output_type": "stream",
     "text": [
      "(Iteration 1 / 125) loss: 2.300199\n",
      "(Epoch 0 / 25) train acc: 0.158000; val_acc: 0.127000\n",
      "(Epoch 1 / 25) train acc: 0.130000; val_acc: 0.119000\n",
      "(Epoch 2 / 25) train acc: 0.226000; val_acc: 0.180000\n",
      "(Epoch 3 / 25) train acc: 0.312000; val_acc: 0.253000\n",
      "(Epoch 4 / 25) train acc: 0.360000; val_acc: 0.279000\n",
      "(Epoch 5 / 25) train acc: 0.376000; val_acc: 0.283000\n",
      "(Epoch 6 / 25) train acc: 0.392000; val_acc: 0.262000\n",
      "(Epoch 7 / 25) train acc: 0.422000; val_acc: 0.280000\n",
      "(Epoch 8 / 25) train acc: 0.436000; val_acc: 0.294000\n",
      "(Epoch 9 / 25) train acc: 0.446000; val_acc: 0.299000\n",
      "(Epoch 10 / 25) train acc: 0.498000; val_acc: 0.316000\n",
      "(Epoch 11 / 25) train acc: 0.470000; val_acc: 0.283000\n",
      "(Epoch 12 / 25) train acc: 0.520000; val_acc: 0.311000\n",
      "(Epoch 13 / 25) train acc: 0.558000; val_acc: 0.322000\n",
      "(Epoch 14 / 25) train acc: 0.552000; val_acc: 0.320000\n",
      "(Epoch 15 / 25) train acc: 0.614000; val_acc: 0.326000\n",
      "(Epoch 16 / 25) train acc: 0.626000; val_acc: 0.314000\n",
      "(Epoch 17 / 25) train acc: 0.628000; val_acc: 0.314000\n",
      "(Epoch 18 / 25) train acc: 0.674000; val_acc: 0.322000\n",
      "(Epoch 19 / 25) train acc: 0.664000; val_acc: 0.337000\n",
      "(Epoch 20 / 25) train acc: 0.686000; val_acc: 0.331000\n",
      "(Iteration 101 / 125) loss: 1.211559\n",
      "(Epoch 21 / 25) train acc: 0.744000; val_acc: 0.340000\n",
      "(Epoch 22 / 25) train acc: 0.758000; val_acc: 0.340000\n",
      "(Epoch 23 / 25) train acc: 0.742000; val_acc: 0.316000\n",
      "(Epoch 24 / 25) train acc: 0.760000; val_acc: 0.313000\n",
      "(Epoch 25 / 25) train acc: 0.790000; val_acc: 0.316000\n",
      "(Iteration 1 / 125) loss: 2.300607\n",
      "(Epoch 0 / 25) train acc: 0.172000; val_acc: 0.167000\n",
      "(Epoch 1 / 25) train acc: 0.202000; val_acc: 0.197000\n",
      "(Epoch 2 / 25) train acc: 0.314000; val_acc: 0.233000\n",
      "(Epoch 3 / 25) train acc: 0.370000; val_acc: 0.277000\n",
      "(Epoch 4 / 25) train acc: 0.420000; val_acc: 0.285000\n",
      "(Epoch 5 / 25) train acc: 0.454000; val_acc: 0.296000\n",
      "(Epoch 6 / 25) train acc: 0.510000; val_acc: 0.304000\n",
      "(Epoch 7 / 25) train acc: 0.608000; val_acc: 0.323000\n",
      "(Epoch 8 / 25) train acc: 0.628000; val_acc: 0.285000\n",
      "(Epoch 9 / 25) train acc: 0.694000; val_acc: 0.305000\n",
      "(Epoch 10 / 25) train acc: 0.764000; val_acc: 0.314000\n",
      "(Epoch 11 / 25) train acc: 0.794000; val_acc: 0.303000\n",
      "(Epoch 12 / 25) train acc: 0.804000; val_acc: 0.307000\n",
      "(Epoch 13 / 25) train acc: 0.840000; val_acc: 0.293000\n",
      "(Epoch 14 / 25) train acc: 0.866000; val_acc: 0.310000\n",
      "(Epoch 15 / 25) train acc: 0.904000; val_acc: 0.312000\n",
      "(Epoch 16 / 25) train acc: 0.930000; val_acc: 0.299000\n",
      "(Epoch 17 / 25) train acc: 0.944000; val_acc: 0.297000\n",
      "(Epoch 18 / 25) train acc: 0.976000; val_acc: 0.255000\n",
      "(Epoch 19 / 25) train acc: 0.940000; val_acc: 0.278000\n",
      "(Epoch 20 / 25) train acc: 0.980000; val_acc: 0.303000\n",
      "(Iteration 101 / 125) loss: 0.087768\n",
      "(Epoch 21 / 25) train acc: 0.980000; val_acc: 0.291000\n",
      "(Epoch 22 / 25) train acc: 0.984000; val_acc: 0.290000\n",
      "(Epoch 23 / 25) train acc: 0.986000; val_acc: 0.284000\n",
      "(Epoch 24 / 25) train acc: 0.992000; val_acc: 0.293000\n",
      "(Epoch 25 / 25) train acc: 0.996000; val_acc: 0.288000\n"
     ]
    }
   ],
   "source": [
    "# Train two identical nets, one with dropout and one without\n",
    "\n",
    "num_train = 500\n",
    "small_data = {\n",
    "    'X_train': data['X_train'][:num_train],\n",
    "    'y_train': data['y_train'][:num_train],\n",
    "    'X_val': data['X_val'],\n",
    "    'y_val': data['y_val'],\n",
    "}\n",
    "\n",
    "solvers = {}\n",
    "dropout_choices = [0.6, 1.0]\n",
    "for dropout in dropout_choices:\n",
    "    model = FullyConnectedNet([100, 100, 100], dropout=dropout)\n",
    "\n",
    "    solver = Solver(model, small_data,\n",
    "                    num_epochs=25, batch_size=100,\n",
    "                    update_rule='adam',\n",
    "                    optim_config={\n",
    "                      'learning_rate': 5e-4,\n",
    "                    },\n",
    "                    verbose=True, print_every=100)\n",
    "    solver.train()\n",
    "    solvers[dropout] = solver"
   ]
  },
  {
   "cell_type": "code",
   "execution_count": 23,
   "metadata": {},
   "outputs": [
    {
     "data": {
      "image/png": "[encoded data removed]",
      "text/plain": [
       "<Figure size 1500x1500 with 2 Axes>"
      ]
     },
     "metadata": {},
     "output_type": "display_data"
    }
   ],
   "source": [
    "# Plot train and validation accuracies of the two models\n",
    "\n",
    "train_accs = []\n",
    "val_accs = []\n",
    "for dropout in dropout_choices:\n",
    "    solver = solvers[dropout]\n",
    "    train_accs.append(solver.train_acc_history[-1])\n",
    "    val_accs.append(solver.val_acc_history[-1])\n",
    "\n",
    "plt.subplot(3, 1, 1)\n",
    "for dropout in dropout_choices:\n",
    "    plt.plot(solvers[dropout].train_acc_history, 'o', label='%.2f dropout' % dropout)\n",
    "plt.title('Train accuracy')\n",
    "plt.xlabel('Epoch')\n",
    "plt.ylabel('Accuracy')\n",
    "plt.legend(ncol=2, loc='lower right')\n",
    "  \n",
    "plt.subplot(3, 1, 2)\n",
    "for dropout in dropout_choices:\n",
    "    plt.plot(solvers[dropout].val_acc_history, 'o', label='%.2f dropout' % dropout)\n",
    "plt.title('Val accuracy')\n",
    "plt.xlabel('Epoch')\n",
    "plt.ylabel('Accuracy')\n",
    "plt.legend(ncol=2, loc='lower right')\n",
    "\n",
    "plt.gcf().set_size_inches(15, 15)\n",
    "plt.show()"
   ]
  },
  {
   "cell_type": "markdown",
   "metadata": {},
   "source": [
    "## Question\n",
    "\n",
    "Based off the results of this experiment, is dropout performing regularization?  Explain your answer."
   ]
  },
  {
   "attachments": {},
   "cell_type": "markdown",
   "metadata": {},
   "source": [
    "## Answer:\n",
    "The orange when dropout = 1 represents not using dropout. So when dropout = 0.6, it is being used. So the blue represents dropout. Based on the experiment, yes dropout performs regularization because you can see both blue and orange have similar validation accuracy while the blue (dropout) doesn't have such a high rate of increase for train accuracy. This means that it is mitigating overfitting and performing regularization."
   ]
  },
  {
   "cell_type": "markdown",
   "metadata": {},
   "source": [
    "##### Final part of the assignment\n",
    "\n",
    "Get over 55% validation accuracy on CIFAR-10 by using the layers you have implemented.  You will be graded according to the following equation:\n",
    "\n",
    "min(floor((X - 32%)) / 23%, 1) \n",
    "where if you get 55% or higher validation accuracy, you get full points."
   ]
  },
  {
   "cell_type": "code",
   "execution_count": 27,
   "metadata": {
    "scrolled": false
   },
   "outputs": [
    {
     "name": "stdout",
     "output_type": "stream",
     "text": [
      "(Iteration 1 / 4900) loss: 2.315670\n",
      "(Epoch 0 / 10) train acc: 0.116000; val_acc: 0.116000\n",
      "(Iteration 51 / 4900) loss: 1.942495\n",
      "(Iteration 101 / 4900) loss: 1.732891\n",
      "(Iteration 151 / 4900) loss: 1.610360\n",
      "(Iteration 201 / 4900) loss: 1.794659\n",
      "(Iteration 251 / 4900) loss: 1.614585\n",
      "(Iteration 301 / 4900) loss: 1.614509\n",
      "(Iteration 351 / 4900) loss: 1.440573\n",
      "(Iteration 401 / 4900) loss: 1.639682\n",
      "(Iteration 451 / 4900) loss: 1.613830\n",
      "(Epoch 1 / 10) train acc: 0.452000; val_acc: 0.477000\n",
      "(Iteration 501 / 4900) loss: 1.388291\n",
      "(Iteration 551 / 4900) loss: 1.400066\n",
      "(Iteration 601 / 4900) loss: 1.555558\n",
      "(Iteration 651 / 4900) loss: 1.682169\n",
      "(Iteration 701 / 4900) loss: 1.325679\n",
      "(Iteration 751 / 4900) loss: 1.399323\n",
      "(Iteration 801 / 4900) loss: 1.459228\n",
      "(Iteration 851 / 4900) loss: 1.584442\n",
      "(Iteration 901 / 4900) loss: 1.408745\n",
      "(Iteration 951 / 4900) loss: 1.515232\n",
      "(Epoch 2 / 10) train acc: 0.502000; val_acc: 0.488000\n",
      "(Iteration 1001 / 4900) loss: 1.653320\n",
      "(Iteration 1051 / 4900) loss: 1.454258\n",
      "(Iteration 1101 / 4900) loss: 1.556873\n",
      "(Iteration 1151 / 4900) loss: 1.539827\n",
      "(Iteration 1201 / 4900) loss: 1.564294\n",
      "(Iteration 1251 / 4900) loss: 1.226554\n",
      "(Iteration 1301 / 4900) loss: 1.402670\n",
      "(Iteration 1351 / 4900) loss: 1.310938\n",
      "(Iteration 1401 / 4900) loss: 1.512348\n",
      "(Iteration 1451 / 4900) loss: 1.405581\n",
      "(Epoch 3 / 10) train acc: 0.553000; val_acc: 0.508000\n",
      "(Iteration 1501 / 4900) loss: 1.431631\n",
      "(Iteration 1551 / 4900) loss: 1.751771\n",
      "(Iteration 1601 / 4900) loss: 1.314030\n",
      "(Iteration 1651 / 4900) loss: 1.460319\n",
      "(Iteration 1701 / 4900) loss: 1.384233\n",
      "(Iteration 1751 / 4900) loss: 1.322205\n",
      "(Iteration 1801 / 4900) loss: 1.355316\n",
      "(Iteration 1851 / 4900) loss: 1.460610\n",
      "(Iteration 1901 / 4900) loss: 1.445547\n",
      "(Iteration 1951 / 4900) loss: 1.243986\n",
      "(Epoch 4 / 10) train acc: 0.557000; val_acc: 0.537000\n",
      "(Iteration 2001 / 4900) loss: 1.329682\n",
      "(Iteration 2051 / 4900) loss: 1.259213\n",
      "(Iteration 2101 / 4900) loss: 1.332589\n",
      "(Iteration 2151 / 4900) loss: 1.332359\n",
      "(Iteration 2201 / 4900) loss: 1.337638\n",
      "(Iteration 2251 / 4900) loss: 1.124938\n",
      "(Iteration 2301 / 4900) loss: 1.390980\n",
      "(Iteration 2351 / 4900) loss: 1.345582\n",
      "(Iteration 2401 / 4900) loss: 1.219983\n",
      "(Epoch 5 / 10) train acc: 0.585000; val_acc: 0.546000\n",
      "(Iteration 2451 / 4900) loss: 1.234222\n",
      "(Iteration 2501 / 4900) loss: 1.251678\n",
      "(Iteration 2551 / 4900) loss: 1.223066\n",
      "(Iteration 2601 / 4900) loss: 1.093901\n",
      "(Iteration 2651 / 4900) loss: 1.327221\n",
      "(Iteration 2701 / 4900) loss: 1.168672\n",
      "(Iteration 2751 / 4900) loss: 1.412426\n",
      "(Iteration 2801 / 4900) loss: 1.127916\n",
      "(Iteration 2851 / 4900) loss: 1.145958\n",
      "(Iteration 2901 / 4900) loss: 1.297254\n",
      "(Epoch 6 / 10) train acc: 0.597000; val_acc: 0.563000\n",
      "(Iteration 2951 / 4900) loss: 1.348911\n",
      "(Iteration 3001 / 4900) loss: 1.135094\n",
      "(Iteration 3051 / 4900) loss: 1.212895\n",
      "(Iteration 3101 / 4900) loss: 1.289152\n",
      "(Iteration 3151 / 4900) loss: 1.243169\n",
      "(Iteration 3201 / 4900) loss: 1.125017\n",
      "(Iteration 3251 / 4900) loss: 1.283074\n",
      "(Iteration 3301 / 4900) loss: 1.278779\n",
      "(Iteration 3351 / 4900) loss: 1.190933\n",
      "(Iteration 3401 / 4900) loss: 1.438955\n",
      "(Epoch 7 / 10) train acc: 0.592000; val_acc: 0.555000\n",
      "(Iteration 3451 / 4900) loss: 1.300583\n",
      "(Iteration 3501 / 4900) loss: 1.444260\n",
      "(Iteration 3551 / 4900) loss: 1.221397\n",
      "(Iteration 3601 / 4900) loss: 1.090857\n",
      "(Iteration 3651 / 4900) loss: 1.240972\n",
      "(Iteration 3701 / 4900) loss: 1.373810\n",
      "(Iteration 3751 / 4900) loss: 1.215900\n",
      "(Iteration 3801 / 4900) loss: 1.163014\n",
      "(Iteration 3851 / 4900) loss: 1.281768\n",
      "(Iteration 3901 / 4900) loss: 1.124513\n",
      "(Epoch 8 / 10) train acc: 0.629000; val_acc: 0.564000\n",
      "(Iteration 3951 / 4900) loss: 1.246855\n",
      "(Iteration 4001 / 4900) loss: 1.117939\n",
      "(Iteration 4051 / 4900) loss: 1.240018\n",
      "(Iteration 4101 / 4900) loss: 1.378874\n",
      "(Iteration 4151 / 4900) loss: 1.297547\n",
      "(Iteration 4201 / 4900) loss: 1.206859\n",
      "(Iteration 4251 / 4900) loss: 1.295331\n",
      "(Iteration 4301 / 4900) loss: 1.269939\n",
      "(Iteration 4351 / 4900) loss: 1.419047\n",
      "(Iteration 4401 / 4900) loss: 1.023463\n",
      "(Epoch 9 / 10) train acc: 0.610000; val_acc: 0.564000\n",
      "(Iteration 4451 / 4900) loss: 1.261891\n",
      "(Iteration 4501 / 4900) loss: 1.186561\n",
      "(Iteration 4551 / 4900) loss: 1.296652\n",
      "(Iteration 4601 / 4900) loss: 1.202455\n",
      "(Iteration 4651 / 4900) loss: 1.140189\n",
      "(Iteration 4701 / 4900) loss: 1.165684\n",
      "(Iteration 4751 / 4900) loss: 1.264138\n",
      "(Iteration 4801 / 4900) loss: 1.149772\n",
      "(Iteration 4851 / 4900) loss: 1.164538\n",
      "(Epoch 10 / 10) train acc: 0.652000; val_acc: 0.564000\n"
     ]
    }
   ],
   "source": [
    "# ================================================================ #\n",
    "# YOUR CODE HERE:\n",
    "#   Implement a FC-net that achieves at least 55% validation accuracy\n",
    "#   on CIFAR-10.\n",
    "# ================================================================ #\n",
    "\n",
    "optimizer = 'adam'\n",
    "best_model = None\n",
    "\n",
    "layer_dims = [500, 500, 500]\n",
    "weight_scale = 0.01\n",
    "learning_rate = 1e-3\n",
    "lr_decay = 0.9\n",
    "\n",
    "model = FullyConnectedNet(layer_dims, weight_scale=weight_scale,\n",
    "                          use_batchnorm=True, dropout=0.6)\n",
    "\n",
    "solver = Solver(model, data,\n",
    "                num_epochs=10, batch_size=100,\n",
    "                update_rule=optimizer,\n",
    "                optim_config={\n",
    "                  'learning_rate': learning_rate,\n",
    "                },\n",
    "                lr_decay=lr_decay,\n",
    "                verbose=True, print_every=50)\n",
    "solver.train()\n",
    "\n",
    "# ================================================================ #\n",
    "# END YOUR CODE HERE\n",
    "# ================================================================ #\n"
   ]
  },
  {
   "attachments": {},
   "cell_type": "markdown",
   "metadata": {},
   "source": [
    "Validation accuracy reached 56.4%!!"
   ]
  },
  {
   "cell_type": "code",
   "execution_count": null,
   "metadata": {},
   "outputs": [],
   "source": []
  }
 ],
 "metadata": {
  "kernelspec": {
   "display_name": ".env",
   "language": "python",
   "name": "python3"
  },
  "language_info": {
   "codemirror_mode": {
    "name": "ipython",
    "version": 3
   },
   "file_extension": ".py",
   "mimetype": "text/x-python",
   "name": "python",
   "nbconvert_exporter": "python",
   "pygments_lexer": "ipython3",
   "version": "3.10.4"
  },
  "vscode": {
   "interpreter": {
    "hash": "85b83ab0aad317eb050fdc038869679b06adf58c539d3af36b9ad9bdf3dd9bb4"
   }
  }
 },
 "nbformat": 4,
 "nbformat_minor": 2
}
